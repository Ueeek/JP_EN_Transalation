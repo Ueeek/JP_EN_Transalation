{
  "nbformat": 4,
  "nbformat_minor": 0,
  "metadata": {
    "colab": {
      "name": "1_LSTM_torch_batch_emb.ipynb",
      "version": "0.3.2",
      "provenance": [],
      "collapsed_sections": []
    },
    "kernelspec": {
      "name": "python3",
      "display_name": "Python 3"
    },
    "language_info": {
      "codemirror_mode": {
        "name": "ipython",
        "version": 3
      },
      "file_extension": ".py",
      "mimetype": "text/x-python",
      "name": "python",
      "nbconvert_exporter": "python",
      "pygments_lexer": "ipython3",
      "version": "3.7.3"
    }
  },
  "cells": [
    {
      "cell_type": "code",
      "metadata": {
        "id": "hkAJwAxM61Ut",
        "colab_type": "code",
        "outputId": "5fb1ec18-eeb3-4ac6-c5e1-a80d381d5b30",
        "colab": {
          "base_uri": "https://localhost:8080/",
          "height": 34
        }
      },
      "source": [
        "from google.colab import drive\n",
        "drive.mount('/content/drive')"
      ],
      "execution_count": 1,
      "outputs": [
        {
          "output_type": "stream",
          "text": [
            "Drive already mounted at /content/drive; to attempt to forcibly remount, call drive.mount(\"/content/drive\", force_remount=True).\n"
          ],
          "name": "stdout"
        }
      ]
    },
    {
      "cell_type": "code",
      "metadata": {
        "id": "TZLcF8-v7zXJ",
        "colab_type": "code",
        "colab": {}
      },
      "source": [
        "#! pip install mosestokenizer"
      ],
      "execution_count": 0,
      "outputs": []
    },
    {
      "cell_type": "code",
      "metadata": {
        "id": "bm94dewA74Y_",
        "colab_type": "code",
        "colab": {}
      },
      "source": [
        "# colab　にmecabを入れる\n",
        "#!apt install aptitude\n",
        "#!aptitude install mecab libmecab-dev mecab-ipadic-utf8 git make curl xz-utils file -y\n",
        "#!pip install mecab-python3==0.7"
      ],
      "execution_count": 0,
      "outputs": []
    },
    {
      "cell_type": "code",
      "metadata": {
        "id": "BNkYPfbD6zdj",
        "colab_type": "code",
        "colab": {}
      },
      "source": [
        "import sys\n",
        "import gc\n",
        "import os\n",
        "base_dir = \"drive/My Drive/jp_en_translation/\".replace(\"/\",os.sep)\n",
        "emb_dir = \"drive/My Drive/util_data/\".replace(\"/\",os.sep)\n",
        "sys.path.append(\"/Users/ueki/Desktop/work/jp_en_translation\")\n",
        "sys.path.append(\"/Users/ueki/Desktop/JP_EN_Transalation\")\n",
        "sys.path.append(base_dir)\n",
        "sys.path.append(\"drive/My Drive/jp_en_translation\".replace(\"/\",os.sep))"
      ],
      "execution_count": 0,
      "outputs": []
    },
    {
      "cell_type": "code",
      "metadata": {
        "id": "nL9b7aR_6zdn",
        "colab_type": "code",
        "outputId": "68e3b19b-4a19-4e58-9ccd-757459d45a66",
        "colab": {
          "base_uri": "https://localhost:8080/",
          "height": 34
        }
      },
      "source": [
        "from models.Seq2Seq_emb import Seq2Seq\n",
        "from utils.LangEn import LangEn\n",
        "from utils.LangJa import LangJa\n",
        "from utils.build_emb import build_en_emb,build_jp_emb\n",
        "from utils.preprocess import loadLangs\n",
        "import numpy as np\n",
        "from keras.utils import np_utils\n",
        "import matplotlib.pyplot as plt\n",
        "from keras.preprocessing import sequence\n",
        "import torch"
      ],
      "execution_count": 5,
      "outputs": [
        {
          "output_type": "stream",
          "text": [
            "Using TensorFlow backend.\n"
          ],
          "name": "stderr"
        }
      ]
    },
    {
      "cell_type": "code",
      "metadata": {
        "code_folding": [
          0
        ],
        "id": "rIjCxA-n6zdq",
        "colab_type": "code",
        "colab": {}
      },
      "source": [
        "config={\n",
        "    \"corpus_file\":base_dir+\"data/jpn.txt\",\n",
        "    \"en_col\":\"description_en\",\n",
        "    \"jp_col\":\"description_jp\",\n",
        "    \"SOS_token\":1,\n",
        "    \"EOS_token\":2,\n",
        "    \"UNK_token\":0,\n",
        "    \"max_features\":8000,\n",
        "    \"MAX_LENGTH\":20,\n",
        "    \"train_size\":15000,\n",
        "    \"val_size\":100,\n",
        "    \"batch_size\":128,\n",
        "    \"epochs\":500,\n",
        "    \"maxlen_enc\":20,\n",
        "    \"maxlen_dec\":20,\n",
        "    \"n_hidden\":300,\n",
        "    \"input_dim\":5000,\n",
        "    \"jp_voc\":8000,\n",
        "    \"en_voc\":5000,\n",
        "    \"output_dim\":8000,\n",
        "    \"emb_dim\":300,\n",
        "    \"use_enc_emb\":False,\n",
        "    \"use_dec_emb\":False,\n",
        "    \"validation_split\":0.1,\n",
        "    \"trained_param_dir\":base_dir+\"trained_models/1_lstm_ja_en_01.hdf5\",\n",
        "    \"translate_length\":25,\n",
        "    \"en_W2V_FILE\" : emb_dir+\"GoogleNews-vectors-negative300.bin.gz\",\n",
        "    \"jp_W2V_FILE\":emb_dir+\"ja_data/ja.bin\",\n",
        "    \"src\":\"en\",\n",
        "    \"trg\":\"jp\",\n",
        "    \"learning_rate\":0.01,\n",
        "}"
      ],
      "execution_count": 0,
      "outputs": []
    },
    {
      "cell_type": "markdown",
      "metadata": {
        "colab_type": "text",
        "id": "5h6V9OfqpcQn"
      },
      "source": [
        "# train"
      ]
    },
    {
      "cell_type": "code",
      "metadata": {
        "colab_type": "code",
        "id": "YmVIGLgYpdn2",
        "outputId": "302bf1f6-eeb9-40fd-c0e5-4d4457c5dcec",
        "colab": {
          "base_uri": "https://localhost:8080/",
          "height": 34
        }
      },
      "source": [
        "data=loadLangs(config)"
      ],
      "execution_count": 7,
      "outputs": [
        {
          "output_type": "stream",
          "text": [
            "reading lines\n"
          ],
          "name": "stdout"
        }
      ]
    },
    {
      "cell_type": "code",
      "metadata": {
        "colab_type": "code",
        "id": "_FCy7THnpdim",
        "colab": {}
      },
      "source": [
        "val_data = data[config[\"train_size\"]:config[\"train_size\"]+config[\"val_size\"]]\n",
        "data = data[:config[\"train_size\"]]"
      ],
      "execution_count": 0,
      "outputs": []
    },
    {
      "cell_type": "code",
      "metadata": {
        "colab_type": "code",
        "id": "Fsa0heCPpow7",
        "colab": {}
      },
      "source": [
        "EN_lang = LangEn(config)\n",
        "JP_lang = LangJa(config)"
      ],
      "execution_count": 0,
      "outputs": []
    },
    {
      "cell_type": "code",
      "metadata": {
        "colab_type": "code",
        "id": "nWurNSGQpoug",
        "colab": {}
      },
      "source": [
        "for s in data[config[\"en_col\"]]:\n",
        "    EN_lang.addSentence(s)"
      ],
      "execution_count": 0,
      "outputs": []
    },
    {
      "cell_type": "code",
      "metadata": {
        "colab_type": "code",
        "id": "vJgN_yKjposQ",
        "colab": {}
      },
      "source": [
        "for s in data[config[\"jp_col\"]]:\n",
        "    JP_lang.addSentence(s)"
      ],
      "execution_count": 0,
      "outputs": []
    },
    {
      "cell_type": "markdown",
      "metadata": {
        "colab_type": "text",
        "id": "o5Tz-dt4YJUu"
      },
      "source": [
        "## input の加工"
      ]
    },
    {
      "cell_type": "code",
      "metadata": {
        "id": "aULbo-pO6zd7",
        "colab_type": "code",
        "colab": {}
      },
      "source": [
        "if config[\"src\"]==\"jp\":\n",
        "    src_col=config[\"jp_col\"]\n",
        "    trg_col=config[\"en_col\"]\n",
        "    Langs={\"src\":JP_lang,\"trg\":EN_lang}\n",
        "else:\n",
        "    src_col=config[\"en_col\"]\n",
        "    trg_col=config[\"jp_col\"]\n",
        "    Langs={\"trg\":JP_lang,\"src\":EN_lang}"
      ],
      "execution_count": 0,
      "outputs": []
    },
    {
      "cell_type": "code",
      "metadata": {
        "colab_type": "code",
        "id": "kZkMItuoprY2",
        "colab": {}
      },
      "source": [
        "input_en = data[src_col]"
      ],
      "execution_count": 0,
      "outputs": []
    },
    {
      "cell_type": "code",
      "metadata": {
        "colab_type": "code",
        "id": "u6IBzGaKvpYS",
        "colab": {}
      },
      "source": [
        "input_source_lang=data[src_col].apply(lambda x:Langs[\"src\"].word2id(x))\n",
        "input_target_lang=data[trg_col].apply(lambda x:Langs[\"trg\"].word2id(x))"
      ],
      "execution_count": 0,
      "outputs": []
    },
    {
      "cell_type": "code",
      "metadata": {
        "colab_type": "code",
        "id": "kNv2-2QGwJOP",
        "colab": {}
      },
      "source": [
        "input_source_padded=sequence.pad_sequences(input_source_lang,maxlen=config[\"MAX_LENGTH\"],padding=\"post\",truncating=\"post\")\n",
        "input_target_padded=sequence.pad_sequences(input_target_lang,maxlen=config[\"MAX_LENGTH\"],padding=\"post\",truncating=\"post\")"
      ],
      "execution_count": 0,
      "outputs": []
    },
    {
      "cell_type": "code",
      "metadata": {
        "id": "Rn2AIUUrXSvy",
        "colab_type": "code",
        "outputId": "9b0c040f-9038-4752-f913-e6440949efdb",
        "colab": {
          "base_uri": "https://localhost:8080/",
          "height": 51
        }
      },
      "source": [
        "input_source_padded[10]"
      ],
      "execution_count": 16,
      "outputs": [
        {
          "output_type": "execute_result",
          "data": {
            "text/plain": [
              "array([50, 56, 57, 42, 58, 59, 60, 27, 61,  5,  2,  0,  0,  0,  0,  0,  0,\n",
              "        0,  0,  0], dtype=int32)"
            ]
          },
          "metadata": {
            "tags": []
          },
          "execution_count": 16
        }
      ]
    },
    {
      "cell_type": "code",
      "metadata": {
        "id": "N3hSswVMXUdk",
        "colab_type": "code",
        "outputId": "e348889c-06db-4b88-fa55-4961bed71b64",
        "colab": {
          "base_uri": "https://localhost:8080/",
          "height": 51
        }
      },
      "source": [
        "input_target_padded[10]"
      ],
      "execution_count": 17,
      "outputs": [
        {
          "output_type": "execute_result",
          "data": {
            "text/plain": [
              "array([31, 22, 62, 39, 26, 63, 64,  9, 65, 11, 66,  5,  2,  0,  0,  0,  0,\n",
              "        0,  0,  0], dtype=int32)"
            ]
          },
          "metadata": {
            "tags": []
          },
          "execution_count": 17
        }
      ]
    },
    {
      "cell_type": "code",
      "metadata": {
        "id": "TQF1eCts97rK",
        "colab_type": "code",
        "outputId": "63069d66-f775-4a07-84fc-162a93d9ccac",
        "colab": {
          "base_uri": "https://localhost:8080/",
          "height": 34
        }
      },
      "source": [
        "device = torch.device(\"cuda\" if torch.cuda.is_available() else \"cpu\")\n",
        "print(device)"
      ],
      "execution_count": 18,
      "outputs": [
        {
          "output_type": "stream",
          "text": [
            "cpu\n"
          ],
          "name": "stdout"
        }
      ]
    },
    {
      "cell_type": "markdown",
      "metadata": {
        "id": "sKk9M26LiLLz",
        "colab_type": "text"
      },
      "source": [
        "## create embedding"
      ]
    },
    {
      "cell_type": "code",
      "metadata": {
        "id": "h_IvBxgqiKRQ",
        "colab_type": "code",
        "colab": {
          "base_uri": "https://localhost:8080/",
          "height": 71
        },
        "outputId": "884363ec-b4e3-4830-e467-2306da9a1206"
      },
      "source": [
        "en_emb = build_en_emb(config,EN_lang.word2index)"
      ],
      "execution_count": 0,
      "outputs": [
        {
          "output_type": "stream",
          "text": [
            "/usr/local/lib/python3.6/dist-packages/smart_open/smart_open_lib.py:398: UserWarning: This function is deprecated, use smart_open.open instead. See the migration notes for details: https://github.com/RaRe-Technologies/smart_open/blob/master/README.rst#migrating-to-the-new-open-function\n",
            "  'See the migration notes for details: %s' % _MIGRATION_NOTES_URL\n"
          ],
          "name": "stderr"
        }
      ]
    },
    {
      "cell_type": "code",
      "metadata": {
        "id": "mPSbCDH-iv3T",
        "colab_type": "code",
        "colab": {}
      },
      "source": [
        "ja_emb = build_en_emb(config,EN_lang.word2index)"
      ],
      "execution_count": 0,
      "outputs": []
    },
    {
      "cell_type": "code",
      "metadata": {
        "id": "NicIF0E2klcw",
        "colab_type": "code",
        "colab": {}
      },
      "source": [
        "if config[\"src\"]==\"en\":\n",
        "    emb={\"src_emb\":en_emb,\"trg_emb\":ja_emb}\n",
        "else:\n",
        "    emb={\"src_emb\":ja_emb,\"trg_emb\":ja_emb}"
      ],
      "execution_count": 0,
      "outputs": []
    },
    {
      "cell_type": "code",
      "metadata": {
        "id": "2FJkygex6zeD",
        "colab_type": "code",
        "colab": {}
      },
      "source": [
        "trainer = Seq2Seq(config,enc_emb=emb[\"src_emb\"],dec_emb=[\"trg_emb\"])"
      ],
      "execution_count": 0,
      "outputs": []
    },
    {
      "cell_type": "code",
      "metadata": {
        "id": "EY739NcJ6zeF",
        "colab_type": "code",
        "colab": {}
      },
      "source": [
        "trainer.trainIters(input_source_padded,input_target_padded)"
      ],
      "execution_count": 0,
      "outputs": []
    },
    {
      "cell_type": "markdown",
      "metadata": {
        "colab_type": "text",
        "id": "5khAA1aymGoX"
      },
      "source": [
        "# test"
      ]
    },
    {
      "cell_type": "code",
      "metadata": {
        "colab_type": "code",
        "id": "9N9v_wwtqu6E",
        "colab": {}
      },
      "source": [
        "val_data_id = val_data[src_col].apply(lambda x:Langs[\"src\"].word2id(x))"
      ],
      "execution_count": 0,
      "outputs": []
    },
    {
      "cell_type": "code",
      "metadata": {
        "id": "f6oVdzEbRPTu",
        "colab_type": "code",
        "colab": {}
      },
      "source": [
        "val_data_id"
      ],
      "execution_count": 0,
      "outputs": []
    },
    {
      "cell_type": "code",
      "metadata": {
        "id": "E_1NbxAp6zeK",
        "colab_type": "code",
        "colab": {}
      },
      "source": [
        "ret=[]\n",
        "for s in val_data_id:\n",
        "    ret.append(trainer.translate(s))"
      ],
      "execution_count": 0,
      "outputs": []
    },
    {
      "cell_type": "code",
      "metadata": {
        "colab_type": "code",
        "id": "L0w7srpDEx_s",
        "colab": {}
      },
      "source": [
        "for src,pred,target in zip(val_data[src_col],ret,val_data[trg_col]):\n",
        "    print(\"src->\",src)\n",
        "    print()\n",
        "    print(\"pred->\",\" \".join(Langs[\"trg\"].id2word(pred)))\n",
        "    print(\"ans->\",target)\n",
        "    print(\"------------------\")"
      ],
      "execution_count": 0,
      "outputs": []
    },
    {
      "cell_type": "code",
      "metadata": {
        "id": "6hqhVW7b6zeN",
        "colab_type": "code",
        "colab": {}
      },
      "source": [
        ""
      ],
      "execution_count": 0,
      "outputs": []
    }
  ]
}