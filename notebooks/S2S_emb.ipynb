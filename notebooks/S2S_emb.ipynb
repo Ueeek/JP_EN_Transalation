{
  "nbformat": 4,
  "nbformat_minor": 0,
  "metadata": {
    "accelerator": "GPU",
    "colab": {
      "name": "S2S_emb.ipynb",
      "version": "0.3.2",
      "provenance": [],
      "collapsed_sections": []
    },
    "kernelspec": {
      "display_name": "Python 3",
      "language": "python",
      "name": "python3"
    },
    "language_info": {
      "codemirror_mode": {
        "name": "ipython",
        "version": 3
      },
      "file_extension": ".py",
      "mimetype": "text/x-python",
      "name": "python",
      "nbconvert_exporter": "python",
      "pygments_lexer": "ipython3",
      "version": "3.7.3"
    }
  },
  "cells": [
    {
      "cell_type": "code",
      "metadata": {
        "colab_type": "code",
        "id": "hkAJwAxM61Ut",
        "outputId": "a0d7119b-3c7e-4d09-aa82-f063790bd363",
        "colab": {
          "base_uri": "https://localhost:8080/",
          "height": 34
        }
      },
      "source": [
        "from google.colab import drive\n",
        "drive.mount('/content/drive')"
      ],
      "execution_count": 1,
      "outputs": [
        {
          "output_type": "stream",
          "text": [
            "Drive already mounted at /content/drive; to attempt to forcibly remount, call drive.mount(\"/content/drive\", force_remount=True).\n"
          ],
          "name": "stdout"
        }
      ]
    },
    {
      "cell_type": "code",
      "metadata": {
        "colab_type": "code",
        "id": "TZLcF8-v7zXJ",
        "outputId": "a7335c1c-5813-4c35-ba3c-96563dd09782",
        "colab": {
          "base_uri": "https://localhost:8080/",
          "height": 85
        }
      },
      "source": [
        "! pip install mosestokenizer"
      ],
      "execution_count": 2,
      "outputs": [
        {
          "output_type": "stream",
          "text": [
            "Requirement already satisfied: mosestokenizer in /usr/local/lib/python3.6/dist-packages (1.0.0)\n",
            "Requirement already satisfied: toolwrapper in /usr/local/lib/python3.6/dist-packages (from mosestokenizer) (0.4.1)\n",
            "Requirement already satisfied: openfile in /usr/local/lib/python3.6/dist-packages (from mosestokenizer) (0.0.7)\n",
            "Requirement already satisfied: docopt in /usr/local/lib/python3.6/dist-packages (from mosestokenizer) (0.6.2)\n"
          ],
          "name": "stdout"
        }
      ]
    },
    {
      "cell_type": "code",
      "metadata": {
        "colab_type": "code",
        "id": "bm94dewA74Y_",
        "outputId": "c817faff-f0f6-414d-9f56-d796c981a32e",
        "colab": {
          "base_uri": "https://localhost:8080/",
          "height": 459
        }
      },
      "source": [
        "# colab　にmecabを入れる\n",
        "!apt install aptitude\n",
        "!aptitude install mecab libmecab-dev mecab-ipadic-utf8 git make curl xz-utils file -y\n",
        "!pip install mecab-python3==0.7"
      ],
      "execution_count": 3,
      "outputs": [
        {
          "output_type": "stream",
          "text": [
            "Reading package lists... Done\n",
            "Building dependency tree       \n",
            "Reading state information... Done\n",
            "aptitude is already the newest version (0.8.10-6ubuntu1).\n",
            "0 upgraded, 0 newly installed, 0 to remove and 4 not upgraded.\n",
            "mecab is already installed at the requested version (0.996-5)\n",
            "libmecab-dev is already installed at the requested version (0.996-5)\n",
            "mecab-ipadic-utf8 is already installed at the requested version (2.7.0-20070801+main-1)\n",
            "git is already installed at the requested version (1:2.17.1-1ubuntu0.4)\n",
            "make is already installed at the requested version (4.1-9.1ubuntu1)\n",
            "curl is already installed at the requested version (7.58.0-2ubuntu3.7)\n",
            "xz-utils is already installed at the requested version (5.2.2-1.3)\n",
            "file is already installed at the requested version (1:5.32-2ubuntu0.2)\n",
            "mecab is already installed at the requested version (0.996-5)\n",
            "libmecab-dev is already installed at the requested version (0.996-5)\n",
            "mecab-ipadic-utf8 is already installed at the requested version (2.7.0-20070801+main-1)\n",
            "git is already installed at the requested version (1:2.17.1-1ubuntu0.4)\n",
            "make is already installed at the requested version (4.1-9.1ubuntu1)\n",
            "curl is already installed at the requested version (7.58.0-2ubuntu3.7)\n",
            "xz-utils is already installed at the requested version (5.2.2-1.3)\n",
            "file is already installed at the requested version (1:5.32-2ubuntu0.2)\n",
            "No packages will be installed, upgraded, or removed.\n",
            "0 packages upgraded, 0 newly installed, 0 to remove and 4 not upgraded.\n",
            "Need to get 0 B of archives. After unpacking 0 B will be used.\n",
            "                            \n",
            "Requirement already satisfied: mecab-python3==0.7 in /usr/local/lib/python3.6/dist-packages (0.7)\n"
          ],
          "name": "stdout"
        }
      ]
    },
    {
      "cell_type": "code",
      "metadata": {
        "colab_type": "code",
        "id": "BNkYPfbD6zdj",
        "colab": {}
      },
      "source": [
        "import sys\n",
        "import gc\n",
        "import os\n",
        "base_dir = \"drive/My Drive/jp_en_translation/\".replace(\"/\",os.sep)\n",
        "#base_dir = \"../\"\n",
        "emb_dir = \"drive/My Drive/util_data/\".replace(\"/\",os.sep)\n",
        "sys.path.append(\"/Users/ueki/Desktop/work/jp_en_translation\")\n",
        "sys.path.append(\"/Users/ueki/Desktop/JP_EN_Transalation\")\n",
        "sys.path.append(base_dir)\n",
        "sys.path.append(\"drive/My Drive/jp_en_translation\".replace(\"/\",os.sep))"
      ],
      "execution_count": 0,
      "outputs": []
    },
    {
      "cell_type": "code",
      "metadata": {
        "colab_type": "code",
        "id": "nL9b7aR_6zdn",
        "outputId": "e35892a1-c107-4104-95a9-1d0c88af56d0",
        "colab": {
          "base_uri": "https://localhost:8080/",
          "height": 34
        }
      },
      "source": [
        "from models.S2S_emb import Seq2Seq\n",
        "from utils.LangEn import LangEn\n",
        "from utils.LangJa import LangJa\n",
        "from utils.build_emb import build_en_emb,build_jp_emb\n",
        "from utils.preprocess import loadLangs\n",
        "import numpy as np\n",
        "from keras.utils import np_utils\n",
        "import matplotlib.pyplot as plt\n",
        "from keras.preprocessing import sequence\n",
        "import torch"
      ],
      "execution_count": 5,
      "outputs": [
        {
          "output_type": "stream",
          "text": [
            "Using TensorFlow backend.\n"
          ],
          "name": "stderr"
        }
      ]
    },
    {
      "cell_type": "code",
      "metadata": {
        "code_folding": [],
        "colab_type": "code",
        "id": "rIjCxA-n6zdq",
        "colab": {}
      },
      "source": [
        "config={\n",
        "    \"corpus_file\":base_dir+\"data/jpn.txt\",\n",
        "    \"en_col\":\"description_en\",\n",
        "    \"jp_col\":\"description_jp\",\n",
        "    \"mask_token\":0,\n",
        "    \"SOS_token\":1,\n",
        "    \"EOS_token\":2,\n",
        "    \"UNK_token\":3,\n",
        "    \"max_features\":8000,\n",
        "    \"MAX_LENGTH\":20,\n",
        "    \"train_size\":15000,\n",
        "    \"val_size\":300,\n",
        "    \"batch_size\":128,\n",
        "    \"epochs\":20,\n",
        "    \"maxlen_enc\":20,\n",
        "    \"maxlen_dec\":20,\n",
        "    \"n_hidden\":500,\n",
        "    \"input_dim\":5000,\n",
        "    \"jp_voc\":8000,\n",
        "    \"en_voc\":5000,\n",
        "    \"output_dim\":8000,\n",
        "    \"emb_dim\":300,\n",
        "    \"use_enc_emb\":False,\n",
        "    \"use_dec_emb\":False,\n",
        "    \"validation_split\":0.01,\n",
        "    \"trained_param_dir\":base_dir+\"trained_models/1_lstm_ja_en_01.hdf5\",\n",
        "    \"translate_length\":20,\n",
        "    \"en_W2V_FILE\" : emb_dir+\"GoogleNews-vectors-negative300.bin.gz\",\n",
        "    \"jp_W2V_FILE\":emb_dir+\"ja_data/ja.bin\",\n",
        "    \"src\":\"en\",\n",
        "    \"trg\":\"jp\",\n",
        "    \"learning_rate\":0.001,\n",
        "}"
      ],
      "execution_count": 0,
      "outputs": []
    },
    {
      "cell_type": "markdown",
      "metadata": {
        "colab_type": "text",
        "id": "5h6V9OfqpcQn"
      },
      "source": [
        "# train"
      ]
    },
    {
      "cell_type": "code",
      "metadata": {
        "colab_type": "code",
        "id": "YmVIGLgYpdn2",
        "outputId": "b3409335-8232-41b7-e4a1-47c56af7da16",
        "colab": {
          "base_uri": "https://localhost:8080/",
          "height": 34
        }
      },
      "source": [
        "data=loadLangs(config)"
      ],
      "execution_count": 7,
      "outputs": [
        {
          "output_type": "stream",
          "text": [
            "reading lines\n"
          ],
          "name": "stdout"
        }
      ]
    },
    {
      "cell_type": "code",
      "metadata": {
        "colab_type": "code",
        "id": "_FCy7THnpdim",
        "colab": {}
      },
      "source": [
        "val_data = data[config[\"train_size\"]:config[\"train_size\"]+config[\"val_size\"]]\n",
        "data = data[:config[\"train_size\"]]"
      ],
      "execution_count": 0,
      "outputs": []
    },
    {
      "cell_type": "code",
      "metadata": {
        "colab_type": "code",
        "id": "Fsa0heCPpow7",
        "colab": {}
      },
      "source": [
        "EN_lang = LangEn(config)\n",
        "JP_lang = LangJa(config)"
      ],
      "execution_count": 0,
      "outputs": []
    },
    {
      "cell_type": "code",
      "metadata": {
        "colab_type": "code",
        "id": "nWurNSGQpoug",
        "colab": {}
      },
      "source": [
        "for s in data[config[\"en_col\"]]:\n",
        "    EN_lang.addSentence(s)"
      ],
      "execution_count": 0,
      "outputs": []
    },
    {
      "cell_type": "code",
      "metadata": {
        "colab_type": "code",
        "id": "vJgN_yKjposQ",
        "colab": {}
      },
      "source": [
        "for s in data[config[\"jp_col\"]]:\n",
        "    JP_lang.addSentence(s)"
      ],
      "execution_count": 0,
      "outputs": []
    },
    {
      "cell_type": "markdown",
      "metadata": {
        "colab_type": "text",
        "id": "o5Tz-dt4YJUu"
      },
      "source": [
        "## input の加工"
      ]
    },
    {
      "cell_type": "code",
      "metadata": {
        "colab_type": "code",
        "id": "aULbo-pO6zd7",
        "colab": {}
      },
      "source": [
        "if config[\"src\"]==\"jp\":\n",
        "    src_col=config[\"jp_col\"]\n",
        "    trg_col=config[\"en_col\"]\n",
        "    Langs={\"src\":JP_lang,\"trg\":EN_lang}\n",
        "else:\n",
        "    src_col=config[\"en_col\"]\n",
        "    trg_col=config[\"jp_col\"]\n",
        "    Langs={\"trg\":JP_lang,\"src\":EN_lang}"
      ],
      "execution_count": 0,
      "outputs": []
    },
    {
      "cell_type": "code",
      "metadata": {
        "colab_type": "code",
        "id": "kZkMItuoprY2",
        "colab": {}
      },
      "source": [
        "input_en = data[src_col]"
      ],
      "execution_count": 0,
      "outputs": []
    },
    {
      "cell_type": "code",
      "metadata": {
        "colab_type": "code",
        "id": "u6IBzGaKvpYS",
        "colab": {}
      },
      "source": [
        "input_source_lang=data[src_col].apply(lambda x:Langs[\"src\"].word2id(x))\n",
        "input_target_lang=data[trg_col].apply(lambda x:Langs[\"trg\"].word2id(x))"
      ],
      "execution_count": 0,
      "outputs": []
    },
    {
      "cell_type": "code",
      "metadata": {
        "id": "6Wd8_Eq1BZAS",
        "colab_type": "code",
        "colab": {}
      },
      "source": [
        "val_source = val_data[src_col].apply(lambda x:Langs[\"src\"].word2id(x))\n",
        "val_target = val_data[trg_col].apply(lambda x:Langs[\"trg\"].word2id(x))"
      ],
      "execution_count": 0,
      "outputs": []
    },
    {
      "cell_type": "code",
      "metadata": {
        "colab_type": "code",
        "id": "kNv2-2QGwJOP",
        "colab": {}
      },
      "source": [
        "input_source_padded=sequence.pad_sequences(input_source_lang,maxlen=config[\"MAX_LENGTH\"],padding=\"post\",truncating=\"post\")\n",
        "input_target_padded=sequence.pad_sequences(input_target_lang,maxlen=config[\"MAX_LENGTH\"],padding=\"post\",truncating=\"post\")"
      ],
      "execution_count": 0,
      "outputs": []
    },
    {
      "cell_type": "code",
      "metadata": {
        "id": "qfY3S_5HBZAb",
        "colab_type": "code",
        "colab": {}
      },
      "source": [
        "val_source_padded=sequence.pad_sequences(val_source,maxlen=config[\"MAX_LENGTH\"],padding=\"post\",truncating=\"post\")\n",
        "val_target_padded=sequence.pad_sequences(val_target,maxlen=config[\"MAX_LENGTH\"],padding=\"post\",truncating=\"post\")"
      ],
      "execution_count": 0,
      "outputs": []
    },
    {
      "cell_type": "code",
      "metadata": {
        "colab_type": "code",
        "id": "TQF1eCts97rK",
        "outputId": "0b12bf6a-3506-448a-9ad4-c53cf57689db",
        "colab": {
          "base_uri": "https://localhost:8080/",
          "height": 34
        }
      },
      "source": [
        "device = torch.device(\"cuda\" if torch.cuda.is_available() else \"cpu\")\n",
        "print(device)"
      ],
      "execution_count": 18,
      "outputs": [
        {
          "output_type": "stream",
          "text": [
            "cuda\n"
          ],
          "name": "stdout"
        }
      ]
    },
    {
      "cell_type": "markdown",
      "metadata": {
        "colab_type": "text",
        "id": "sKk9M26LiLLz"
      },
      "source": [
        "## create embedding"
      ]
    },
    {
      "cell_type": "code",
      "metadata": {
        "colab_type": "code",
        "id": "h_IvBxgqiKRQ",
        "colab": {
          "base_uri": "https://localhost:8080/",
          "height": 105
        },
        "outputId": "42075db8-cd1e-470c-fac0-0de514fa0d59"
      },
      "source": [
        "en_emb = build_en_emb(config,EN_lang.word2index)"
      ],
      "execution_count": 19,
      "outputs": [
        {
          "output_type": "stream",
          "text": [
            "/usr/local/lib/python3.6/dist-packages/smart_open/smart_open_lib.py:398: UserWarning: This function is deprecated, use smart_open.open instead. See the migration notes for details: https://github.com/RaRe-Technologies/smart_open/blob/master/README.rst#migrating-to-the-new-open-function\n",
            "  'See the migration notes for details: %s' % _MIGRATION_NOTES_URL\n"
          ],
          "name": "stderr"
        },
        {
          "output_type": "stream",
          "text": [
            "voc-> 5000\n",
            "UNK_rate 0.03740748149629926\n"
          ],
          "name": "stdout"
        }
      ]
    },
    {
      "cell_type": "code",
      "metadata": {
        "colab_type": "code",
        "id": "mPSbCDH-iv3T",
        "colab": {
          "base_uri": "https://localhost:8080/",
          "height": 105
        },
        "outputId": "b50649ab-b8e4-4709-bf01-548695eb16e0"
      },
      "source": [
        "ja_emb = build_jp_emb(config,JP_lang.word2index)"
      ],
      "execution_count": 20,
      "outputs": [
        {
          "output_type": "stream",
          "text": [
            "/usr/local/lib/python3.6/dist-packages/smart_open/smart_open_lib.py:398: UserWarning: This function is deprecated, use smart_open.open instead. See the migration notes for details: https://github.com/RaRe-Technologies/smart_open/blob/master/README.rst#migrating-to-the-new-open-function\n",
            "  'See the migration notes for details: %s' % _MIGRATION_NOTES_URL\n"
          ],
          "name": "stderr"
        },
        {
          "output_type": "stream",
          "text": [
            "voc-> 8000\n",
            "UNK/rate-> 0.6004500562570322\n"
          ],
          "name": "stdout"
        }
      ]
    },
    {
      "cell_type": "code",
      "metadata": {
        "colab_type": "code",
        "id": "NicIF0E2klcw",
        "colab": {}
      },
      "source": [
        "if config[\"src\"]==\"en\":\n",
        "    emb={\"src_emb\":en_emb,\"trg_emb\":ja_emb}\n",
        "else:\n",
        "    emb={\"src_emb\":ja_emb,\"trg_emb\":en_emb}"
      ],
      "execution_count": 0,
      "outputs": []
    },
    {
      "cell_type": "code",
      "metadata": {
        "colab_type": "code",
        "id": "lp4HUYWjyo_3",
        "colab": {
          "base_uri": "https://localhost:8080/",
          "height": 51
        },
        "outputId": "a290c163-dd35-4e50-c4ba-03a0a96fb374"
      },
      "source": [
        "print(\"enc->\",emb[\"trg_emb\"].shape)\n",
        "print(\"dec->\",emb[\"src_emb\"].shape)"
      ],
      "execution_count": 22,
      "outputs": [
        {
          "output_type": "stream",
          "text": [
            "enc-> (8000, 300)\n",
            "dec-> (5000, 300)\n"
          ],
          "name": "stdout"
        }
      ]
    },
    {
      "cell_type": "code",
      "metadata": {
        "colab_type": "code",
        "id": "2FJkygex6zeD",
        "colab": {}
      },
      "source": [
        "trainer = Seq2Seq(config,enc_emb=emb[\"src_emb\"],dec_emb=emb[\"trg_emb\"])\n",
        "#trainer = Seq2Seq(config)"
      ],
      "execution_count": 0,
      "outputs": []
    },
    {
      "cell_type": "code",
      "metadata": {
        "colab_type": "code",
        "id": "EY739NcJ6zeF",
        "outputId": "0bea3daf-60e6-4a14-d09c-88e640bcbb62",
        "colab": {
          "base_uri": "https://localhost:8080/",
          "height": 1000
        }
      },
      "source": [
        "trainer.trainIters(input_source_padded,input_target_padded,val_source_padded,val_target_padded)"
      ],
      "execution_count": 24,
      "outputs": [
        {
          "output_type": "stream",
          "text": [
            "train_size:15000 - val_size:300\n",
            "Epoch 1/20\n",
            "43 - loss: 0.64046 - val-loss: 0.68916\n",
            "----------------\n",
            "Epoch 2/20\n",
            "43 - loss: 0.47623 - val-loss: 0.77966\n",
            "----------------\n",
            "Epoch 3/20\n",
            "43 - loss: 0.40554 - val-loss: 0.71315\n",
            "----------------\n",
            "Epoch 4/20\n",
            "43 - loss: 0.33970 - val-loss: 0.66630\n",
            "----------------\n",
            "Epoch 5/20\n",
            "43 - loss: 0.28403 - val-loss: 0.66478\n",
            "----------------\n",
            "Epoch 6/20\n",
            "43 - loss: 0.23199 - val-loss: 0.61020\n",
            "----------------\n",
            "Epoch 7/20\n",
            "44 - loss: 0.18631 - val-loss: 0.56631\n",
            "----------------\n",
            "Epoch 8/20\n",
            "44 - loss: 0.15339 - val-loss: 0.55002\n",
            "----------------\n",
            "Epoch 9/20\n",
            "43 - loss: 0.12361 - val-loss: 0.53341\n",
            "----------------\n",
            "Epoch 10/20\n",
            "44 - loss: 0.10181 - val-loss: 0.53967\n",
            "----------------\n",
            "Epoch 11/20\n",
            "43 - loss: 0.08152 - val-loss: 0.57090\n",
            "----------------\n",
            "Epoch 12/20\n",
            "43 - loss: 0.06526 - val-loss: 0.62686\n",
            "----------------\n",
            "Epoch 13/20\n",
            "43 - loss: 0.05208 - val-loss: 0.62899\n",
            "----------------\n",
            "Epoch 14/20\n",
            "44 - loss: 0.04413 - val-loss: 0.63449\n",
            "----------------\n",
            "Epoch 15/20\n",
            "43 - loss: 0.04163 - val-loss: 0.69676\n",
            "----------------\n",
            "Epoch 16/20\n",
            "43 - loss: 0.03191 - val-loss: 0.69958\n",
            "----------------\n",
            "Epoch 17/20\n",
            "43 - loss: 0.02336 - val-loss: 0.62873\n",
            "----------------\n",
            "Epoch 18/20\n",
            "44 - loss: 0.01771 - val-loss: 0.54773\n",
            "----------------\n",
            "Epoch 19/20\n",
            "43 - loss: 0.01407 - val-loss: 0.70948\n",
            "----------------\n",
            "Epoch 20/20\n",
            "43 - loss: 0.01234 - val-loss: 0.60890\n",
            "----------------\n"
          ],
          "name": "stdout"
        },
        {
          "output_type": "display_data",
          "data": {
            "image/png": "[encoded data removed]",
            "text/plain": [
              "<Figure size 432x288 with 1 Axes>"
            ]
          },
          "metadata": {
            "tags": []
          }
        }
      ]
    },
    {
      "cell_type": "markdown",
      "metadata": {
        "colab_type": "text",
        "id": "5khAA1aymGoX"
      },
      "source": [
        "# test"
      ]
    },
    {
      "cell_type": "code",
      "metadata": {
        "id": "GvpwgJ0eBZBu",
        "colab_type": "code",
        "colab": {}
      },
      "source": [
        "ret=trainer.translateIter(val_source_padded[:10])"
      ],
      "execution_count": 0,
      "outputs": []
    },
    {
      "cell_type": "code",
      "metadata": {
        "colab_type": "code",
        "id": "E_1NbxAp6zeK",
        "outputId": "e04e5517-2466-4dc6-e0a7-4cbfc5de7889",
        "colab": {
          "base_uri": "https://localhost:8080/",
          "height": 1000
        }
      },
      "source": [
        "ret1 = trainer.translateIter(val_source_padded[:20])\n",
        "for src,pred,target in zip(val_data[src_col],ret1,val_data[trg_col]):\n",
        "    print(\"src->\",src)\n",
        "    print()\n",
        "    print(\"pred->\",\" \".join(Langs[\"trg\"].id2word(pred)))\n",
        "    print(\"ans->\",target)\n",
        "    print(\"------------------\")"
      ],
      "execution_count": 26,
      "outputs": [
        {
          "output_type": "stream",
          "text": [
            "src-> theres no need to hurry.\n",
            "\n",
            "pred-> 急が なく て も いい よ 。 EOS 。 EOS ない の 。 EOS 行っ て は いけ ませ ん\n",
            "ans-> 急ぐ 必要 は あり ませ ん 。\n",
            "------------------\n",
            "src-> i want to join your band.\n",
            "\n",
            "pred-> 血液 検査 に し たい ん です 。 EOS 。 EOS てる ん だ 。 EOS 。 EOS 。 EOS\n",
            "ans-> あなた の バンド に 入り たい な 。\n",
            "------------------\n",
            "src-> you must keep an eye on the child.\n",
            "\n",
            "pred-> 子供 の 中 に 気 を つけ て ください 。 EOS て いる 。 EOS は し て い ない\n",
            "ans-> その 子 から 目 を 離さ ない よう に し なけれ ば いけ ない 。\n",
            "------------------\n",
            "src-> he is mad about music.\n",
            "\n",
            "pred-> 彼 は 音楽 の こと だ 。 EOS て いる 。 EOS て いる 。 EOS て いる 。 EOS\n",
            "ans-> 彼 は 音楽 狂 だ 。\n",
            "------------------\n",
            "src-> with a little more patience she would have succeeded.\n",
            "\n",
            "pred-> 彼女 が い たら 彼女 は 夢にも 思わ なかっ た 。 EOS なっ た 。 EOS て い た の\n",
            "ans-> もし 彼女 が もう少し 我慢強かっ たら 、 成功 し て い た だろ う に 。\n",
            "------------------\n",
            "src-> they painted the fence green.\n",
            "\n",
            "pred-> 彼ら は 木 を UNK た 。 EOS た 。 EOS た 。 EOS だ よ 。 EOS の まし\n",
            "ans-> 彼ら は フェンス を 緑色 に 塗っ た 。\n",
            "------------------\n",
            "src-> there was a convention last month.\n",
            "\n",
            "pred-> 今月 ルート は 終わっ た 。 EOS て い た 。 EOS た 。 EOS て い まし た 。\n",
            "ans-> 先月 、 集会 が あっ た 。\n",
            "------------------\n",
            "src-> shes not a fulltime employee of this company.\n",
            "\n",
            "pred-> 彼女 は この 町 の 方 が ナイフ で ある 。 EOS の は 下手 だ 。 EOS の は\n",
            "ans-> 彼女 は この 会社 の 正社員 で は あり ませ ん 。\n",
            "------------------\n",
            "src-> tom is arguing with mary.\n",
            "\n",
            "pred-> トム は メアリー と UNK だ 。 EOS て いる 。 EOS だ 。 EOS て いる 。 EOS て\n",
            "ans-> トム は メアリー と 喧嘩 し て いる 。\n",
            "------------------\n",
            "src-> it looks like today will be a long day.\n",
            "\n",
            "pred-> 今日 は 一 日 に なり そう です 。 EOS 剤 た だけ です 。 EOS て いる の 。\n",
            "ans-> 今日 は 長い 一 日 に なり そう です 。\n",
            "------------------\n",
            "src-> tom cried all night long.\n",
            "\n",
            "pred-> トム は 一 晩 中 泣い た 。 EOS EOS た 。 EOS い た 。 EOS の 中 だ\n",
            "ans-> トム は 一 晩 中 泣き明かし た 。\n",
            "------------------\n",
            "src-> tom didnt want it.\n",
            "\n",
            "pred-> トム は それ を 欲しく なかっ た 。 EOS だ 。 EOS なかっ た 。 EOS て い ない 。\n",
            "ans-> トム は 欲しく なかっ た 。\n",
            "------------------\n",
            "src-> i was moved to tears by her speech.\n",
            "\n",
            "pred-> 私 は 彼女 に 笑わ れ た 女性 は UNK た 。 EOS なっ た 。 EOS の こと が\n",
            "ans-> 彼女 の スピーチ で 感動 し て 泣い た 。\n",
            "------------------\n",
            "src-> his wife was nowhere to be seen.\n",
            "\n",
            "pred-> 妻 が 死ん で い た の は すっかり だっ た 。 EOS し た 。 EOS の こと が\n",
            "ans-> 彼 の 妻 の 姿 は どこ に も 見え なかっ た 。\n",
            "------------------\n",
            "src-> in october i was in boston.\n",
            "\n",
            "pred-> ボストン に ボストン の ところ だっ た 。 EOS EOS い まし た 。 EOS は い た 。 EOS\n",
            "ans-> 10 月 は ボストン に い た 。\n",
            "------------------\n",
            "src-> i go to any party i am invited to.\n",
            "\n",
            "pred-> 私 は 貴方 に 行く つもり です 。 EOS ませ ん 。 EOS し て いる の です 。 EOS\n",
            "ans-> 私 は 招待 さ れ た パーティー に は 必ず 出席 する 。\n",
            "------------------\n",
            "src-> which player are you paying the most attention to this year?\n",
            "\n",
            "pred-> どの くらい の 間 に 立っ て いる と 思い ます か ？ EOS ます か 。 EOS てる ？\n",
            "ans-> 今年 、 注目 し て いる 選手 は 誰 です か 。\n",
            "------------------\n",
            "src-> he earns more money than he can spend.\n",
            "\n",
            "pred-> 彼 は 使い 切れ ない 程 の お金 を 稼ぐ 。 EOS て いる 。 EOS だ 。 EOS て\n",
            "ans-> 彼 は 使い きれ ない ほど の 金 を 稼ぐ 。\n",
            "------------------\n",
            "src-> i intend to try doing everything i can.\n",
            "\n",
            "pred-> 私 を やっ て もらい たい こと 、 彼 が 気 に なる もの です 。 EOS 。 EOS て\n",
            "ans-> できる 限り の こと は し て みる つもり だ 。\n",
            "------------------\n",
            "src-> i dont want to tell you the truth.\n",
            "\n",
            "pred-> 本当 の こと を 知り たく て い ませ ん 。 EOS 。 EOS し て い ませ ん 。\n",
            "ans-> あなた に は 本当 の こと を 言い たく ない の 。\n",
            "------------------\n"
          ],
          "name": "stdout"
        }
      ]
    },
    {
      "cell_type": "code",
      "metadata": {
        "id": "cEwMjR1NBZCH",
        "colab_type": "code",
        "outputId": "c4888fcc-cc89-4ed7-8b32-ea925f6dbc5a",
        "colab": {
          "base_uri": "https://localhost:8080/",
          "height": 1000
        }
      },
      "source": [
        "ret2 = trainer.translateIter(input_source_padded[:20])\n",
        "for src,pred,target in zip(data[src_col],ret2,data[trg_col]):\n",
        "    print(\"src->\",src)\n",
        "    print()\n",
        "    print(\"pred->\",\" \".join(Langs[\"trg\"].id2word(pred)))\n",
        "    print(\"ans->\",target)\n",
        "    print(\"------------------\")"
      ],
      "execution_count": 27,
      "outputs": [
        {
          "output_type": "stream",
          "text": [
            "src-> its tom.\n",
            "\n",
            "pred-> トム だ 。 EOS 。 EOS 。 EOS 。 EOS 。 EOS てる の だ よ 。 EOS て い\n",
            "ans-> トム だ 。\n",
            "------------------\n",
            "src-> id like to introduce you to some of my friends.\n",
            "\n",
            "pred-> あなた を 私 の 友達 に 紹介 し たい の です が 。 EOS て い ます 。 EOS て\n",
            "ans-> あなた を 私 の 友達 に 紹介 し たい の です が 。\n",
            "------------------\n",
            "src-> please be careful.\n",
            "\n",
            "pred-> 気 を つけ て ください 。 EOS EOS 。 EOS 。 EOS な の です 。 EOS 。 EOS て\n",
            "ans-> 気 を つけ て ください 。\n",
            "------------------\n",
            "src-> he knows no english not to mention german.\n",
            "\n",
            "pred-> 彼 は ドイツ 語 で すら 解さ ない 。 まして ドイツ 語 など 分かる か ない 。 EOS て いる\n",
            "ans-> 彼 は ドイツ 語 は 言うまでもなく 、 英語 も 知ら ない 。\n",
            "------------------\n",
            "src-> i explained the rules to her.\n",
            "\n",
            "pred-> 私 は 彼女 に 規則 を 説明 し た 。 EOS に 努め た 。 EOS た 。 EOS の\n",
            "ans-> 私 は 彼女 に 規則 を 説明 し た 。\n",
            "------------------\n",
            "src-> the titanic sunk on its maiden voyage.\n",
            "\n",
            "pred-> タイタニック 号 は 処女 航海 で 沈没 し た 。 EOS だ 。 EOS なっ た 。 EOS た 。\n",
            "ans-> タイタニック 号 は 処女 航海 で 沈没 し た 。\n",
            "------------------\n",
            "src-> tom walked all day.\n",
            "\n",
            "pred-> トム は 一 日 中 歩き 続け た 。 EOS に 行っ た 。 EOS い た 。 EOS て\n",
            "ans-> トム は 一 日 中 歩き 続け た 。\n",
            "------------------\n",
            "src-> maybe its time to change my hair and do a makeover.\n",
            "\n",
            "pred-> そろそろ 髪型 で 僕 を 時間 に 入れ て くる の か 、 私 に は でき ます 。 EOS\n",
            "ans-> そろそろ 髪型 で も 変え て 、 イメチェン しよ う か な 。\n",
            "------------------\n",
            "src-> these dogs are big.\n",
            "\n",
            "pred-> この 犬 たち が 大きい 。 EOS EOS 。 EOS 。 EOS てる の 。 EOS てる の 。 EOS\n",
            "ans-> この 犬 たち は 大きい 。\n",
            "------------------\n",
            "src-> she didnt want to go out anyway.\n",
            "\n",
            "pred-> 彼女 は とにかく 外出 し たく なかっ た 。 EOS ませ ん 。 EOS が なかっ た 。 EOS て\n",
            "ans-> 彼女 は とにかく 外出 し たく なかっ た 。\n",
            "------------------\n",
            "src-> she is shy and always remains in the background.\n",
            "\n",
            "pred-> 彼女 は 内気 で 、 いつも 後ろ の 方 に いる 。 EOS て いる 。 EOS て いる の\n",
            "ans-> 彼女 は 内気 で 、 いつも 後ろ の 方 に いる 。\n",
            "------------------\n",
            "src-> try it once more.\n",
            "\n",
            "pred-> もう 一 回 やっ て み て 。 EOS 。 EOS な 。 EOS う 。 EOS て いる の\n",
            "ans-> もう 一 回 やっ て み て 。\n",
            "------------------\n",
            "src-> tom had been standing in the rain for what seemed like hours.\n",
            "\n",
            "pred-> トム は 何 時間 も 雨 の 中 立っ て い た 。 EOS う と し た 。 EOS\n",
            "ans-> トム は 何 時間 も 雨 の 中 立っ て い た 。\n",
            "------------------\n",
            "src-> kyoto was the former capital of japan.\n",
            "\n",
            "pred-> 京都 は 以前 の 国 の 首都 でし た 。 EOS 私 は い た 。 EOS て いる 。\n",
            "ans-> 京都 は 以前 日本 の 首都 でし た 。\n",
            "------------------\n",
            "src-> please have a seat.\n",
            "\n",
            "pred-> どうぞ おかけ に なっ て ください 。 EOS 。 EOS 。 EOS て い ない ん だ 。 EOS 。\n",
            "ans-> 座り な よ 。\n",
            "------------------\n",
            "src-> i cant get rid of my cold.\n",
            "\n",
            "pred-> 風邪 が なかなか 治ら ない 。 EOS 私 が 。 EOS の か な 。 EOS ませ ん 。 EOS\n",
            "ans-> かぜ が 治ら ない 。\n",
            "------------------\n",
            "src-> im pretty sure that tower is  meters tall.\n",
            "\n",
            "pred-> あの 塔 の 高 さ は 330 メートル で まず 間違い です 。 EOS ます 。 EOS ます 。 EOS\n",
            "ans-> あの 塔 の 高 さ は 330 メートル で まず 間違い ない と 思う 。\n",
            "------------------\n",
            "src-> he was reading a newspaper.\n",
            "\n",
            "pred-> 彼 は 新聞 を 読ん で い た 。 EOS だ 。 EOS た 。 EOS い た 。 EOS\n",
            "ans-> 彼 は 新聞 を 読ん で い た 。\n",
            "------------------\n",
            "src-> the priest blessed the marriage of the happy couple.\n",
            "\n",
            "pred-> 司祭 は 幸せ な 二 人 の 結婚 を 祝福 し た 。 EOS なっ た 。 EOS の 人\n",
            "ans-> 司祭 は 幸せ な 二 人 の 結婚 を 祝福 し た 。\n",
            "------------------\n",
            "src-> you know why were here.\n",
            "\n",
            "pred-> なぜ 我々 が ここ に いる か 知ら ない 。 EOS 。 EOS てる の 。 EOS てる の 。\n",
            "ans-> なぜ 我々 が ここ に いる か 、 お 分かり です ね 。\n",
            "------------------\n"
          ],
          "name": "stdout"
        }
      ]
    },
    {
      "cell_type": "code",
      "metadata": {
        "colab_type": "code",
        "id": "6hqhVW7b6zeN",
        "colab": {}
      },
      "source": [
        ""
      ],
      "execution_count": 0,
      "outputs": []
    }
  ]
}