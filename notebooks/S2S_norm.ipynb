{
  "nbformat": 4,
  "nbformat_minor": 0,
  "metadata": {
    "accelerator": "GPU",
    "colab": {
      "name": "S2S_norm.ipynb",
      "version": "0.3.2",
      "provenance": [],
      "collapsed_sections": [],
      "toc_visible": true
    },
    "kernelspec": {
      "display_name": "Python 3",
      "language": "python",
      "name": "python3"
    },
    "language_info": {
      "codemirror_mode": {
        "name": "ipython",
        "version": 3
      },
      "file_extension": ".py",
      "mimetype": "text/x-python",
      "name": "python",
      "nbconvert_exporter": "python",
      "pygments_lexer": "ipython3",
      "version": "3.7.3"
    }
  },
  "cells": [
    {
      "cell_type": "code",
      "metadata": {
        "colab_type": "code",
        "id": "hkAJwAxM61Ut",
        "outputId": "5449dc6e-ba78-4421-f278-d5ae76407f0c",
        "colab": {
          "base_uri": "https://localhost:8080/",
          "height": 34
        }
      },
      "source": [
        "from google.colab import drive\n",
        "drive.mount('/content/drive')"
      ],
      "execution_count": 1,
      "outputs": [
        {
          "output_type": "stream",
          "text": [
            "Drive already mounted at /content/drive; to attempt to forcibly remount, call drive.mount(\"/content/drive\", force_remount=True).\n"
          ],
          "name": "stdout"
        }
      ]
    },
    {
      "cell_type": "code",
      "metadata": {
        "colab_type": "code",
        "id": "TZLcF8-v7zXJ",
        "outputId": "9a642cb8-efd7-491f-e896-c77930f85559",
        "colab": {
          "base_uri": "https://localhost:8080/",
          "height": 85
        }
      },
      "source": [
        "! pip install mosestokenizer"
      ],
      "execution_count": 2,
      "outputs": [
        {
          "output_type": "stream",
          "text": [
            "Requirement already satisfied: mosestokenizer in /usr/local/lib/python3.6/dist-packages (1.0.0)\n",
            "Requirement already satisfied: toolwrapper in /usr/local/lib/python3.6/dist-packages (from mosestokenizer) (0.4.1)\n",
            "Requirement already satisfied: docopt in /usr/local/lib/python3.6/dist-packages (from mosestokenizer) (0.6.2)\n",
            "Requirement already satisfied: openfile in /usr/local/lib/python3.6/dist-packages (from mosestokenizer) (0.0.7)\n"
          ],
          "name": "stdout"
        }
      ]
    },
    {
      "cell_type": "code",
      "metadata": {
        "colab_type": "code",
        "id": "bm94dewA74Y_",
        "outputId": "15f072f9-8fe9-4124-f1bd-16578a4c125f",
        "colab": {
          "base_uri": "https://localhost:8080/",
          "height": 459
        }
      },
      "source": [
        "# colab　にmecabを入れる\n",
        "!apt install aptitude\n",
        "!aptitude install mecab libmecab-dev mecab-ipadic-utf8 git make curl xz-utils file -y\n",
        "!pip install mecab-python3==0.7"
      ],
      "execution_count": 3,
      "outputs": [
        {
          "output_type": "stream",
          "text": [
            "Reading package lists... Done\n",
            "Building dependency tree       \n",
            "Reading state information... Done\n",
            "aptitude is already the newest version (0.8.10-6ubuntu1).\n",
            "0 upgraded, 0 newly installed, 0 to remove and 4 not upgraded.\n",
            "mecab is already installed at the requested version (0.996-5)\n",
            "libmecab-dev is already installed at the requested version (0.996-5)\n",
            "mecab-ipadic-utf8 is already installed at the requested version (2.7.0-20070801+main-1)\n",
            "git is already installed at the requested version (1:2.17.1-1ubuntu0.4)\n",
            "make is already installed at the requested version (4.1-9.1ubuntu1)\n",
            "curl is already installed at the requested version (7.58.0-2ubuntu3.7)\n",
            "xz-utils is already installed at the requested version (5.2.2-1.3)\n",
            "file is already installed at the requested version (1:5.32-2ubuntu0.2)\n",
            "mecab is already installed at the requested version (0.996-5)\n",
            "libmecab-dev is already installed at the requested version (0.996-5)\n",
            "mecab-ipadic-utf8 is already installed at the requested version (2.7.0-20070801+main-1)\n",
            "git is already installed at the requested version (1:2.17.1-1ubuntu0.4)\n",
            "make is already installed at the requested version (4.1-9.1ubuntu1)\n",
            "curl is already installed at the requested version (7.58.0-2ubuntu3.7)\n",
            "xz-utils is already installed at the requested version (5.2.2-1.3)\n",
            "file is already installed at the requested version (1:5.32-2ubuntu0.2)\n",
            "No packages will be installed, upgraded, or removed.\n",
            "0 packages upgraded, 0 newly installed, 0 to remove and 4 not upgraded.\n",
            "Need to get 0 B of archives. After unpacking 0 B will be used.\n",
            "                            \n",
            "Requirement already satisfied: mecab-python3==0.7 in /usr/local/lib/python3.6/dist-packages (0.7)\n"
          ],
          "name": "stdout"
        }
      ]
    },
    {
      "cell_type": "code",
      "metadata": {
        "colab_type": "code",
        "id": "BNkYPfbD6zdj",
        "colab": {}
      },
      "source": [
        "import sys\n",
        "import gc\n",
        "import os\n",
        "base_dir = \"drive/My Drive/jp_en_translation/\".replace(\"/\",os.sep)\n",
        "#base_dir = \"../\"\n",
        "emb_dir = \"drive/My Drive/util_data/\".replace(\"/\",os.sep)\n",
        "sys.path.append(\"/Users/ueki/Desktop/work/jp_en_translation\")\n",
        "sys.path.append(\"/Users/ueki/Desktop/JP_EN_Transalation\")\n",
        "sys.path.append(base_dir)\n",
        "sys.path.append(\"drive/My Drive/jp_en_translation\".replace(\"/\",os.sep))"
      ],
      "execution_count": 0,
      "outputs": []
    },
    {
      "cell_type": "code",
      "metadata": {
        "colab_type": "code",
        "id": "nL9b7aR_6zdn",
        "outputId": "7cfd5292-2d42-4d2c-8943-6b2358c7ac46",
        "colab": {
          "base_uri": "https://localhost:8080/",
          "height": 34
        }
      },
      "source": [
        "from models.S2S_normalize import Seq2Seq\n",
        "from utils.LangEn import LangEn\n",
        "from utils.LangJa import LangJa\n",
        "from utils.build_emb import build_en_emb,build_jp_emb\n",
        "from utils.preprocess import loadLangs\n",
        "import numpy as np\n",
        "from keras.utils import np_utils\n",
        "import matplotlib.pyplot as plt\n",
        "from keras.preprocessing import sequence\n",
        "import torch"
      ],
      "execution_count": 3,
      "outputs": [
        {
          "output_type": "stream",
          "text": [
            "Using TensorFlow backend.\n"
          ],
          "name": "stderr"
        }
      ]
    },
    {
      "cell_type": "code",
      "metadata": {
        "code_folding": [],
        "colab_type": "code",
        "id": "rIjCxA-n6zdq",
        "colab": {}
      },
      "source": [
        "config={\n",
        "    \"corpus_file\":base_dir+\"data/jpn.txt\",\n",
        "    \"en_col\":\"description_en\",\n",
        "    \"jp_col\":\"description_jp\",\n",
        "    \"mask_token\":0,\n",
        "    \"SOS_token\":1,\n",
        "    #\"EOS_token\":2,\n",
        "    \"EOS_token\":0,\n",
        "    \"UNK_token\":3,\n",
        "    \"max_features\":8000,\n",
        "    \"MAX_LENGTH\":20,\n",
        "    \"train_size\":15000,\n",
        "    \"val_size\":300,\n",
        "    \"batch_size\":128,\n",
        "    \"epochs\":20,\n",
        "    \"maxlen_enc\":20,\n",
        "    \"maxlen_dec\":20,\n",
        "    \"n_hidden\":500,\n",
        "    \"input_dim\":5000,\n",
        "    \"jp_voc\":8000,\n",
        "    \"en_voc\":5000,\n",
        "    \"output_dim\":8000,\n",
        "    \"emb_dim\":300,\n",
        "    \"use_enc_emb\":False,\n",
        "    \"use_dec_emb\":False,\n",
        "    \"validation_split\":0.01,\n",
        "    \"trained_param_dir\":base_dir+\"trained_models/1_lstm_ja_en_01.hdf5\",\n",
        "    \"translate_length\":20,\n",
        "    \"en_W2V_FILE\" : emb_dir+\"GoogleNews-vectors-negative300.bin.gz\",\n",
        "    \"jp_W2V_FILE\":emb_dir+\"ja_data/ja.bin\",\n",
        "    \"src\":\"en\",\n",
        "    \"trg\":\"jp\",\n",
        "    \"learning_rate\":0.001,\n",
        "}"
      ],
      "execution_count": 0,
      "outputs": []
    },
    {
      "cell_type": "markdown",
      "metadata": {
        "colab_type": "text",
        "id": "5h6V9OfqpcQn"
      },
      "source": [
        "# train"
      ]
    },
    {
      "cell_type": "code",
      "metadata": {
        "colab_type": "code",
        "id": "YmVIGLgYpdn2",
        "outputId": "c085e9d9-3e1e-4757-ba74-fdafcc79f1ca",
        "colab": {
          "base_uri": "https://localhost:8080/",
          "height": 34
        }
      },
      "source": [
        "data=loadLangs(config)"
      ],
      "execution_count": 5,
      "outputs": [
        {
          "output_type": "stream",
          "text": [
            "reading lines\n"
          ],
          "name": "stdout"
        }
      ]
    },
    {
      "cell_type": "code",
      "metadata": {
        "colab_type": "code",
        "id": "_FCy7THnpdim",
        "colab": {}
      },
      "source": [
        "val_data = data[config[\"train_size\"]:config[\"train_size\"]+config[\"val_size\"]]\n",
        "data = data[:config[\"train_size\"]]"
      ],
      "execution_count": 0,
      "outputs": []
    },
    {
      "cell_type": "code",
      "metadata": {
        "colab_type": "code",
        "id": "Fsa0heCPpow7",
        "colab": {}
      },
      "source": [
        "EN_lang = LangEn(config)\n",
        "JP_lang = LangJa(config)"
      ],
      "execution_count": 0,
      "outputs": []
    },
    {
      "cell_type": "code",
      "metadata": {
        "colab_type": "code",
        "id": "nWurNSGQpoug",
        "colab": {}
      },
      "source": [
        "for s in data[config[\"en_col\"]]:\n",
        "    EN_lang.addSentence(s)"
      ],
      "execution_count": 0,
      "outputs": []
    },
    {
      "cell_type": "code",
      "metadata": {
        "colab_type": "code",
        "id": "vJgN_yKjposQ",
        "colab": {}
      },
      "source": [
        "for s in data[config[\"jp_col\"]]:\n",
        "    JP_lang.addSentence(s)"
      ],
      "execution_count": 0,
      "outputs": []
    },
    {
      "cell_type": "markdown",
      "metadata": {
        "colab_type": "text",
        "id": "o5Tz-dt4YJUu"
      },
      "source": [
        "## input の加工"
      ]
    },
    {
      "cell_type": "code",
      "metadata": {
        "colab_type": "code",
        "id": "aULbo-pO6zd7",
        "colab": {}
      },
      "source": [
        "if config[\"src\"]==\"jp\":\n",
        "    src_col=config[\"jp_col\"]\n",
        "    trg_col=config[\"en_col\"]\n",
        "    Langs={\"src\":JP_lang,\"trg\":EN_lang}\n",
        "else:\n",
        "    src_col=config[\"en_col\"]\n",
        "    trg_col=config[\"jp_col\"]\n",
        "    Langs={\"trg\":JP_lang,\"src\":EN_lang}"
      ],
      "execution_count": 0,
      "outputs": []
    },
    {
      "cell_type": "code",
      "metadata": {
        "colab_type": "code",
        "id": "kZkMItuoprY2",
        "colab": {}
      },
      "source": [
        "input_en = data[src_col]"
      ],
      "execution_count": 0,
      "outputs": []
    },
    {
      "cell_type": "code",
      "metadata": {
        "colab_type": "code",
        "id": "u6IBzGaKvpYS",
        "colab": {}
      },
      "source": [
        "input_source_lang=data[src_col].apply(lambda x:Langs[\"src\"].word2id(x))\n",
        "input_target_lang=data[trg_col].apply(lambda x:Langs[\"trg\"].word2id(x))"
      ],
      "execution_count": 0,
      "outputs": []
    },
    {
      "cell_type": "code",
      "metadata": {
        "id": "6Wd8_Eq1BZAS",
        "colab_type": "code",
        "colab": {}
      },
      "source": [
        "val_source = val_data[src_col].apply(lambda x:Langs[\"src\"].word2id(x))\n",
        "val_target = val_data[trg_col].apply(lambda x:Langs[\"trg\"].word2id(x))"
      ],
      "execution_count": 0,
      "outputs": []
    },
    {
      "cell_type": "code",
      "metadata": {
        "colab_type": "code",
        "id": "kNv2-2QGwJOP",
        "colab": {}
      },
      "source": [
        "input_source_padded=sequence.pad_sequences(input_source_lang,maxlen=config[\"MAX_LENGTH\"],padding=\"post\",truncating=\"post\")\n",
        "input_target_padded=sequence.pad_sequences(input_target_lang,maxlen=config[\"MAX_LENGTH\"],padding=\"post\",truncating=\"post\")"
      ],
      "execution_count": 0,
      "outputs": []
    },
    {
      "cell_type": "code",
      "metadata": {
        "id": "qfY3S_5HBZAb",
        "colab_type": "code",
        "colab": {}
      },
      "source": [
        "val_source_padded=sequence.pad_sequences(val_source,maxlen=config[\"MAX_LENGTH\"],padding=\"post\",truncating=\"post\")\n",
        "val_target_padded=sequence.pad_sequences(val_target,maxlen=config[\"MAX_LENGTH\"],padding=\"post\",truncating=\"post\")"
      ],
      "execution_count": 0,
      "outputs": []
    },
    {
      "cell_type": "code",
      "metadata": {
        "colab_type": "code",
        "id": "TQF1eCts97rK",
        "outputId": "1e5560e5-013f-4427-9817-ad78b38c4de3",
        "colab": {
          "base_uri": "https://localhost:8080/",
          "height": 34
        }
      },
      "source": [
        "device = torch.device(\"cuda\" if torch.cuda.is_available() else \"cpu\")\n",
        "print(device)"
      ],
      "execution_count": 16,
      "outputs": [
        {
          "output_type": "stream",
          "text": [
            "cuda\n"
          ],
          "name": "stdout"
        }
      ]
    },
    {
      "cell_type": "markdown",
      "metadata": {
        "colab_type": "text",
        "id": "sKk9M26LiLLz"
      },
      "source": [
        "## create embedding"
      ]
    },
    {
      "cell_type": "code",
      "metadata": {
        "colab_type": "code",
        "id": "h_IvBxgqiKRQ",
        "colab": {}
      },
      "source": [
        "#en_emb = build_en_emb(config,EN_lang.word2index)"
      ],
      "execution_count": 0,
      "outputs": []
    },
    {
      "cell_type": "code",
      "metadata": {
        "colab_type": "code",
        "id": "mPSbCDH-iv3T",
        "colab": {}
      },
      "source": [
        "#ja_emb = build_jp_emb(config,JP_lang.word2index)"
      ],
      "execution_count": 0,
      "outputs": []
    },
    {
      "cell_type": "code",
      "metadata": {
        "colab_type": "code",
        "id": "NicIF0E2klcw",
        "colab": {}
      },
      "source": [
        "#if config[\"src\"]==\"en\":\n",
        "#    emb={\"src_emb\":en_emb,\"trg_emb\":ja_emb}\n",
        "#else:\n",
        "  #  emb={\"src_emb\":ja_emb,\"trg_emb\":en_emb}"
      ],
      "execution_count": 0,
      "outputs": []
    },
    {
      "cell_type": "code",
      "metadata": {
        "colab_type": "code",
        "id": "lp4HUYWjyo_3",
        "colab": {}
      },
      "source": [
        "#print(\"enc->\",emb[\"trg_emb\"].shape)\n",
        "#print(\"dec->\",emb[\"src_emb\"].shape)"
      ],
      "execution_count": 0,
      "outputs": []
    },
    {
      "cell_type": "code",
      "metadata": {
        "colab_type": "code",
        "id": "2FJkygex6zeD",
        "colab": {}
      },
      "source": [
        "#trainer = Seq2Seq(config,enc_emb=emb[\"src_emb\"],dec_emb=emb[\"trg_emb\"])\n",
        "trainer = Seq2Seq(config)"
      ],
      "execution_count": 0,
      "outputs": []
    },
    {
      "cell_type": "code",
      "metadata": {
        "colab_type": "code",
        "id": "EY739NcJ6zeF",
        "outputId": "1231a135-2f73-4e77-f02a-dd6e55038e44",
        "colab": {
          "base_uri": "https://localhost:8080/",
          "height": 1000
        }
      },
      "source": [
        "trainer.trainIters(input_source_padded,input_target_padded,val_source_padded,val_target_padded)"
      ],
      "execution_count": 22,
      "outputs": [
        {
          "output_type": "stream",
          "text": [
            "train_size:15000 - val_size:300\n",
            "Epoch 1/20\n",
            "42 - loss: 0.73697 - val-loss: 1.00341\n",
            "----------------\n",
            "Epoch 2/20\n",
            "42 - loss: 0.56398 - val-loss: 1.03478\n",
            "----------------\n",
            "Epoch 3/20\n",
            "42 - loss: 0.48818 - val-loss: 0.88903\n",
            "----------------\n",
            "Epoch 4/20\n",
            "42 - loss: 0.42239 - val-loss: 0.77217\n",
            "----------------\n",
            "Epoch 5/20\n",
            "42 - loss: 0.35655 - val-loss: 0.90939\n",
            "----------------\n",
            "Epoch 6/20\n",
            "42 - loss: 0.29942 - val-loss: 0.75251\n",
            "----------------\n",
            "Epoch 7/20\n",
            "42 - loss: 0.24676 - val-loss: 0.82544\n",
            "----------------\n",
            "Epoch 8/20\n",
            "42 - loss: 0.20110 - val-loss: 0.91071\n",
            "----------------\n",
            "Epoch 9/20\n",
            "42 - loss: 0.16480 - val-loss: 0.57367\n",
            "----------------\n",
            "Epoch 10/20\n",
            "42 - loss: 0.13381 - val-loss: 0.54346\n",
            "----------------\n",
            "Epoch 11/20\n",
            "42 - loss: 0.10728 - val-loss: 0.89594\n",
            "----------------\n",
            "Epoch 12/20\n",
            "42 - loss: 0.08309 - val-loss: 0.73744\n",
            "----------------\n",
            "Epoch 13/20\n",
            "42 - loss: 0.06562 - val-loss: 0.78462\n",
            "----------------\n",
            "Epoch 14/20\n",
            "42 - loss: 0.05030 - val-loss: 0.86518\n",
            "----------------\n",
            "Epoch 15/20\n",
            "42 - loss: 0.04021 - val-loss: 0.80675\n",
            "----------------\n",
            "Epoch 16/20\n",
            "42 - loss: 0.03620 - val-loss: 0.68684\n",
            "----------------\n",
            "Epoch 17/20\n",
            "42 - loss: 0.02925 - val-loss: 0.66272\n",
            "----------------\n",
            "Epoch 18/20\n",
            "42 - loss: 0.02474 - val-loss: 0.66996\n",
            "----------------\n",
            "Epoch 19/20\n",
            "42 - loss: 0.02383 - val-loss: 0.74052\n",
            "----------------\n",
            "Epoch 20/20\n",
            "42 - loss: 0.02052 - val-loss: 1.04073\n",
            "----------------\n"
          ],
          "name": "stdout"
        },
        {
          "output_type": "display_data",
          "data": {
            "image/png": "[encoded data removed]",
            "text/plain": [
              "<Figure size 432x288 with 1 Axes>"
            ]
          },
          "metadata": {
            "tags": []
          }
        }
      ]
    },
    {
      "cell_type": "markdown",
      "metadata": {
        "colab_type": "text",
        "id": "5khAA1aymGoX"
      },
      "source": [
        "# test"
      ]
    },
    {
      "cell_type": "code",
      "metadata": {
        "id": "GvpwgJ0eBZBu",
        "colab_type": "code",
        "colab": {}
      },
      "source": [
        "ret=trainer.translateIter(val_source_padded[:10])"
      ],
      "execution_count": 0,
      "outputs": []
    },
    {
      "cell_type": "code",
      "metadata": {
        "colab_type": "code",
        "id": "E_1NbxAp6zeK",
        "outputId": "8aeec669-56c4-469a-c02e-4cf9dd2faddc",
        "colab": {
          "base_uri": "https://localhost:8080/",
          "height": 1000
        }
      },
      "source": [
        "ret1 = trainer.translateIter(val_source_padded[:20])\n",
        "for src,pred,target in zip(val_data[src_col],ret1,val_data[trg_col]):\n",
        "    print(\"src->\",src)\n",
        "    print()\n",
        "    print(\"pred->\",\" \".join(Langs[\"trg\"].id2word(pred)))\n",
        "    print(\"ans->\",target)\n",
        "    print(\"------------------\")"
      ],
      "execution_count": 24,
      "outputs": [
        {
          "output_type": "stream",
          "text": [
            "src-> theres no need to hurry.\n",
            "\n",
            "pred-> 急が なく て も いい よ 。 。 。 も いい よ 。 。 。 ・ で も いい 。\n",
            "ans-> 急ぐ 必要 は あり ませ ん 。\n",
            "------------------\n",
            "src-> i want to join your band.\n",
            "\n",
            "pred-> UNK たい 。 ほしい が 、 行き たい 。 。 UNK の 中 行き たい 。 だ 。 。 いい\n",
            "ans-> あなた の バンド に 入り たい な 。\n",
            "------------------\n",
            "src-> you must keep an eye on the child.\n",
            "\n",
            "pred-> 上司 で は 、 ドア を 閉め ず に いけ ず 。 困っ て ください 。 という 。 は 自分\n",
            "ans-> その 子 から 目 を 離さ ない よう に し なけれ ば いけ ない 。\n",
            "------------------\n",
            "src-> he is mad about music.\n",
            "\n",
            "pred-> 彼 は ４ ０ 歳 の ある 。 者 だ 。 いる 。 の 一 人 の 。 だ 。\n",
            "ans-> 彼 は 音楽 狂 だ 。\n",
            "------------------\n",
            "src-> with a little more patience she would have succeeded.\n",
            "\n",
            "pred-> あれ は 彼女 が 好き で 、 彼女 を もう少し の か どう に は し た だろ う 。\n",
            "ans-> もし 彼女 が もう少し 我慢強かっ たら 、 成功 し て い た だろ う に 。\n",
            "------------------\n",
            "src-> they painted the fence green.\n",
            "\n",
            "pred-> 彼ら は 値段 の ところ を 見 た 。 。 その 事故 を 出 た 。 。 メアリー に なっ\n",
            "ans-> 彼ら は フェンス を 緑色 に 塗っ た 。\n",
            "------------------\n",
            "src-> there was a convention last month.\n",
            "\n",
            "pred-> 昨日 の 間 に は 晴れ が い た 。 だっ た 。 説明 た 。 。 昨日 た 。\n",
            "ans-> 先月 、 集会 が あっ た 。\n",
            "------------------\n",
            "src-> shes not a fulltime employee of this company.\n",
            "\n",
            "pred-> この 単語 は ギリシャ だけ で なく タイ 語 も 無い 。 だ 。 。 UNK だけ で ある 。\n",
            "ans-> 彼女 は この 会社 の 正社員 で は あり ませ ん 。\n",
            "------------------\n",
            "src-> tom is arguing with mary.\n",
            "\n",
            "pred-> トム は メアリー を UNK て いる 。 だ 。 UNK 。 UNK だ 。 だ 。 。 UNK だ\n",
            "ans-> トム は メアリー と 喧嘩 し て いる 。\n",
            "------------------\n",
            "src-> it looks like today will be a long day.\n",
            "\n",
            "pred-> 今日 は 長い 間 に なり そう だ 。 そう に する の だ 。 そう に なり ます 。\n",
            "ans-> 今日 は 長い 一 日 に なり そう です 。\n",
            "------------------\n",
            "src-> tom cried all night long.\n",
            "\n",
            "pred-> トム は 涙 を 全部 終え た 。 メアリー に なっ た 。 。 昨日 の やっ た 。 。\n",
            "ans-> トム は 一 晩 中 泣き明かし た 。\n",
            "------------------\n",
            "src-> tom didnt want it.\n",
            "\n",
            "pred-> トム は それ を 欲しく なかっ た 。 言っ た 。 それ は 浅はか だ 。 だっ た 。 。\n",
            "ans-> トム は 欲しく なかっ た 。\n",
            "------------------\n",
            "src-> i was moved to tears by her speech.\n",
            "\n",
            "pred-> 私 は １ ０ 時 に 起こし た 。 がっかり し た 。 。 昨日 なっ た 。 だっ た\n",
            "ans-> 彼女 の スピーチ で 感動 し て 泣い た 。\n",
            "------------------\n",
            "src-> his wife was nowhere to be seen.\n",
            "\n",
            "pred-> 彼 の 演説 は 、 その 計画 に 賛成 し た 。 だっ た 。 だっ た 。 だっ た\n",
            "ans-> 彼 の 妻 の 姿 は どこ に も 見え なかっ た 。\n",
            "------------------\n",
            "src-> in october i was in boston.\n",
            "\n",
            "pred-> 私 は ボストン に い た 。 魚 が でき まし た 。 。 昨日 は い られ た 。\n",
            "ans-> 10 月 は ボストン に い た 。\n",
            "------------------\n",
            "src-> i go to any party i am invited to.\n",
            "\n",
            "pred-> 私 は UNK の UNK に なり たい 。 UNK の UNK が 走る 。 の に は 慣れ て\n",
            "ans-> 私 は 招待 さ れ た パーティー に は 必ず 出席 する 。\n",
            "------------------\n",
            "src-> which player are you paying the most attention to this year?\n",
            "\n",
            "pred-> この 国 の 家賃 は どう し て いる と 思い ます か ？ ます ます か ？ ます か\n",
            "ans-> 今年 、 注目 し て いる 選手 は 誰 です か 。\n",
            "------------------\n",
            "src-> he earns more money than he can spend.\n",
            "\n",
            "pred-> 彼 が たくさん の お金 を 稼ぐ だけ も ない 。 UNK だ 。 だ 。 。 私 の 方\n",
            "ans-> 彼 は 使い きれ ない ほど の 金 を 稼ぐ 。\n",
            "------------------\n",
            "src-> i intend to try doing everything i can.\n",
            "\n",
            "pred-> 私 は 何 も 食べる もの を 買う 余裕 が 出来 。 する 。 も UNK た 。 。 昨日\n",
            "ans-> できる 限り の こと は し て みる つもり だ 。\n",
            "------------------\n",
            "src-> i dont want to tell you the truth.\n",
            "\n",
            "pred-> 私 に は あなた が いい こと を 言う の は 。 知り ませ ん 。 。 だけ だけ も\n",
            "ans-> あなた に は 本当 の こと を 言い たく ない の 。\n",
            "------------------\n"
          ],
          "name": "stdout"
        }
      ]
    },
    {
      "cell_type": "code",
      "metadata": {
        "id": "cEwMjR1NBZCH",
        "colab_type": "code",
        "outputId": "8b726cf0-1f62-483e-fa66-faf7ed7a7af3",
        "colab": {
          "base_uri": "https://localhost:8080/",
          "height": 1000
        }
      },
      "source": [
        "ret2 = trainer.translateIter(input_source_padded[:20])\n",
        "for src,pred,target in zip(data[src_col],ret2,data[trg_col]):\n",
        "    print(\"src->\",src)\n",
        "    print()\n",
        "    print(\"pred->\",\" \".join(Langs[\"trg\"].id2word(pred)))\n",
        "    print(\"ans->\",target)\n",
        "    print(\"------------------\")"
      ],
      "execution_count": 25,
      "outputs": [
        {
          "output_type": "stream",
          "text": [
            "src-> its tom.\n",
            "\n",
            "pred-> トム だ 。 僕 が いい よ 。 ある 。 僕 が 見 て いる 。 。 信じ て い\n",
            "ans-> トム だ 。\n",
            "------------------\n",
            "src-> id like to introduce you to some of my friends.\n",
            "\n",
            "pred-> あなた を 私 の 友達 の 紹介 を し たい の です が 。 。 お て ください 。 です\n",
            "ans-> あなた を 私 の 友達 に 紹介 し たい の です が 。\n",
            "------------------\n",
            "src-> please be careful.\n",
            "\n",
            "pred-> 気 を つけ て ください 。 。 から お て ください 。 。 お 電話 で ください 。 。 だけ\n",
            "ans-> 気 を つけ て ください 。\n",
            "------------------\n",
            "src-> he knows no english not to mention german.\n",
            "\n",
            "pred-> 彼 は ドイツ 語 は 言うまでもなく 、 英語 も 知ら ない 。 まして も ない 。 だ 。 でも いい\n",
            "ans-> 彼 は ドイツ 語 は 言うまでもなく 、 英語 も 知ら ない 。\n",
            "------------------\n",
            "src-> i explained the rules to her.\n",
            "\n",
            "pred-> 私 は 彼女 に 規則 を 説明 し た 。 電話 を し た 。 い た 。 。 昨日\n",
            "ans-> 私 は 彼女 に 規則 を 説明 し た 。\n",
            "------------------\n",
            "src-> the titanic sunk on its maiden voyage.\n",
            "\n",
            "pred-> タイタニック 号 は 処女 航海 で 沈没 し た 。 そして の が 爆発 し た 。 だっ た 。\n",
            "ans-> タイタニック 号 は 処女 航海 で 沈没 し た 。\n",
            "------------------\n",
            "src-> tom walked all day.\n",
            "\n",
            "pred-> トム は 一 日 中 歩き 続け た 。 そして に なっ た 。 説明 た 。 説明 し た\n",
            "ans-> トム は 一 日 中 歩き 続け た 。\n",
            "------------------\n",
            "src-> maybe its time to change my hair and do a makeover.\n",
            "\n",
            "pred-> そろそろ 髪型 を つくる の も 、 楽しい の 方 を 覚え られ ない 。 だって な の だ 。\n",
            "ans-> そろそろ 髪型 で も 変え て 、 イメチェン しよ う か な 。\n",
            "------------------\n",
            "src-> these dogs are big.\n",
            "\n",
            "pred-> この 犬 たち は 大きい 。 。 でも ・ だけ だ 。 。 の は 私 の 上 です 。\n",
            "ans-> この 犬 たち は 大きい 。\n",
            "------------------\n",
            "src-> she didnt want to go out anyway.\n",
            "\n",
            "pred-> 彼女 は とにかく 外出 し たく なかっ た 。 う に 。 いか た 。 。 彼 は 行か なかっ\n",
            "ans-> 彼女 は とにかく 外出 し たく なかっ た 。\n",
            "------------------\n",
            "src-> she is shy and always remains in the background.\n",
            "\n",
            "pred-> 彼女 は 内気 で 、 いつも 後ろ の 方 に いる 。 だ 。 いる 。 いる 。 の UNK\n",
            "ans-> 彼女 は 内気 で 、 いつも 後ろ の 方 に いる 。\n",
            "------------------\n",
            "src-> try it once more.\n",
            "\n",
            "pred-> もう 一 回 やっ て み て 。 。 。 ・ ・ ・ 。 。 。 私 は その 質問\n",
            "ans-> もう 一 回 やっ て み て 。\n",
            "------------------\n",
            "src-> tom had been standing in the rain for what seemed like hours.\n",
            "\n",
            "pred-> トム は 何 時間 も 雨 が 降っ で いる 。 い て い た 。 メアリー だ 。 UNK\n",
            "ans-> トム は 何 時間 も 雨 の 中 立っ て い た 。\n",
            "------------------\n",
            "src-> kyoto was the former capital of japan.\n",
            "\n",
            "pred-> 京都 は 以前 の 日本 の 首都 でし た 。 。 １ ９ １ ０ 年 に 好か られ た\n",
            "ans-> 京都 は 以前 日本 の 首都 でし た 。\n",
            "------------------\n",
            "src-> please have a seat.\n",
            "\n",
            "pred-> 座り な よ 。 な 。 を 持っ て 下さい 。 。 こちら の 中 に 。 な よ 。\n",
            "ans-> 座り な よ 。\n",
            "------------------\n",
            "src-> i cant get rid of my cold.\n",
            "\n",
            "pred-> 風邪 が 直ら ない 。 その 土地 は 私 の 負け が 。 。 一 度 も ない 。 だ\n",
            "ans-> かぜ が 治ら ない 。\n",
            "------------------\n",
            "src-> im pretty sure that tower is  meters tall.\n",
            "\n",
            "pred-> あの 塔 の 高 さ は 330 メートル で まず 間違い ない と 思う な 。 だ 。 だ 。\n",
            "ans-> あの 塔 の 高 さ は 330 メートル で まず 間違い ない と 思う 。\n",
            "------------------\n",
            "src-> he was reading a newspaper.\n",
            "\n",
            "pred-> 彼 は 新聞 を 読ん で い た 。 だっ た 。 。 昨日 で は なかっ た 。 。\n",
            "ans-> 彼 は 新聞 を 読ん で い た 。\n",
            "------------------\n",
            "src-> the priest blessed the marriage of the happy couple.\n",
            "\n",
            "pred-> 司祭 は 幸せ な 二 人 の 結婚 を 祝福 し た 。 い た 。 説明 た 。 い\n",
            "ans-> 司祭 は 幸せ な 二 人 の 結婚 を 祝福 し た 。\n",
            "------------------\n",
            "src-> you know why were here.\n",
            "\n",
            "pred-> なぜ 我々 が ここ に いる か 、 お 分かり です ね 。 お 支払い の です が 。 。\n",
            "ans-> なぜ 我々 が ここ に いる か 、 お 分かり です ね 。\n",
            "------------------\n"
          ],
          "name": "stdout"
        }
      ]
    },
    {
      "cell_type": "code",
      "metadata": {
        "colab_type": "code",
        "id": "6hqhVW7b6zeN",
        "colab": {}
      },
      "source": [
        ""
      ],
      "execution_count": 0,
      "outputs": []
    }
  ]
}