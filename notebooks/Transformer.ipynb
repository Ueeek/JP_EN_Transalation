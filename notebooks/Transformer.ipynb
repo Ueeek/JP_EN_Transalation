{
 "cells": [
  {
   "cell_type": "code",
   "execution_count": 1,
   "metadata": {
    "colab": {},
    "colab_type": "code",
    "id": "BNkYPfbD6zdj"
   },
   "outputs": [],
   "source": [
    "import sys\n",
    "import gc\n",
    "import os\n",
    "#base_dir = \"drive/My Drive/jp_en_translation/\".replace(\"/\",os.sep)\n",
    "base_dir = \"../\"\n",
    "emb_dir = \"drive/My Drive/util_data/\".replace(\"/\",os.sep)\n",
    "sys.path.append(\"/Users/ueki/Desktop/work/jp_en_translation\")\n",
    "sys.path.append(\"/Users/ueki/Desktop/JP_EN_Transalation\")\n",
    "sys.path.append(base_dir)\n",
    "sys.path.append(\"drive/My Drive/jp_en_translation\".replace(\"/\",os.sep))"
   ]
  },
  {
   "cell_type": "code",
   "execution_count": 2,
   "metadata": {
    "colab": {
     "base_uri": "https://localhost:8080/",
     "height": 34
    },
    "colab_type": "code",
    "id": "nL9b7aR_6zdn",
    "outputId": "8913662d-ea92-4923-c504-66b2560d377f"
   },
   "outputs": [
    {
     "name": "stderr",
     "output_type": "stream",
     "text": [
      "Using TensorFlow backend.\n"
     ]
    }
   ],
   "source": [
    "from models.Transformer import Model\n",
    "from utils.LangEn import LangEn\n",
    "from utils.LangJa import LangJa\n",
    "from utils.build_emb import build_en_emb,build_jp_emb\n",
    "from utils.preprocess import loadLangs\n",
    "import numpy as np\n",
    "from keras.utils import np_utils\n",
    "import matplotlib.pyplot as plt\n",
    "from keras.preprocessing import sequence\n",
    "import torch"
   ]
  },
  {
   "cell_type": "code",
   "execution_count": 3,
   "metadata": {
    "code_folding": [],
    "colab": {},
    "colab_type": "code",
    "id": "rIjCxA-n6zdq"
   },
   "outputs": [],
   "source": [
    "config={\n",
    "    \"corpus_file\":base_dir+\"data/jpn.txt\",\n",
    "    \"en_col\":\"description_en\",\n",
    "    \"jp_col\":\"description_jp\",\n",
    "    \"mask_token\":0,\n",
    "    \"SOS_token\":1,\n",
    "    \"EOS_token\":2,\n",
    "    \"UNK_token\":3,\n",
    "    \"max_features\":8000,\n",
    "    \"MAX_LENGTH\":20,\n",
    "    \"train_size\":15000,\n",
    "    \"val_size\":300,\n",
    "    \"batch_size\":128,\n",
    "    \"epochs\":1,\n",
    "    \"maxlen_enc\":20,\n",
    "    \"maxlen_dec\":20,\n",
    "    \"n_hidden\":500,\n",
    "    \"input_dim\":5000,\n",
    "    \"jp_voc\":8000,\n",
    "    \"en_voc\":5000,\n",
    "    \"output_dim\":8000,\n",
    "    \"emb_dim\":300,\n",
    "    \"validation_split\":0.01,\n",
    "    \"trained_param_dir\":base_dir+\"trained_models/1_lstm_ja_en_01.hdf5\",\n",
    "    \"translate_length\":20,\n",
    "    \"en_W2V_FILE\" : emb_dir+\"GoogleNews-vectors-negative300.bin.gz\",\n",
    "    \"jp_W2V_FILE\":emb_dir+\"ja_data/ja.bin\",\n",
    "    \"src\":\"en\",\n",
    "    \"trg\":\"jp\",\n",
    "    \"learning_rate\":0.001,\n",
    "    \"n_heads\":5,\n",
    "    \"n_layer\":4,\n",
    "}"
   ]
  },
  {
   "cell_type": "markdown",
   "metadata": {
    "colab_type": "text",
    "id": "5h6V9OfqpcQn"
   },
   "source": [
    "# train"
   ]
  },
  {
   "cell_type": "code",
   "execution_count": 4,
   "metadata": {
    "colab": {
     "base_uri": "https://localhost:8080/",
     "height": 34
    },
    "colab_type": "code",
    "id": "YmVIGLgYpdn2",
    "outputId": "dd8e83e5-331f-4138-d331-377977f18717"
   },
   "outputs": [
    {
     "name": "stdout",
     "output_type": "stream",
     "text": [
      "reading lines\n"
     ]
    }
   ],
   "source": [
    "data=loadLangs(config)"
   ]
  },
  {
   "cell_type": "code",
   "execution_count": 5,
   "metadata": {
    "colab": {},
    "colab_type": "code",
    "id": "_FCy7THnpdim"
   },
   "outputs": [],
   "source": [
    "val_data = data[config[\"train_size\"]:config[\"train_size\"]+config[\"val_size\"]]\n",
    "data = data[:config[\"train_size\"]]"
   ]
  },
  {
   "cell_type": "code",
   "execution_count": 6,
   "metadata": {
    "colab": {},
    "colab_type": "code",
    "id": "Fsa0heCPpow7"
   },
   "outputs": [
    {
     "name": "stderr",
     "output_type": "stream",
     "text": [
      "WARNING: Logging before flag parsing goes to stderr.\n",
      "W0913 13:43:58.218097 4491789760 toolwrapper.py:77] stdbuf was not found; communication with perl may hang due to stdio buffering.\n"
     ]
    }
   ],
   "source": [
    "EN_lang = LangEn(config)\n",
    "JP_lang = LangJa(config)"
   ]
  },
  {
   "cell_type": "code",
   "execution_count": 7,
   "metadata": {
    "colab": {},
    "colab_type": "code",
    "id": "nWurNSGQpoug"
   },
   "outputs": [],
   "source": [
    "for s in data[config[\"en_col\"]]:\n",
    "    EN_lang.addSentence(s)"
   ]
  },
  {
   "cell_type": "code",
   "execution_count": 8,
   "metadata": {
    "colab": {},
    "colab_type": "code",
    "id": "vJgN_yKjposQ"
   },
   "outputs": [],
   "source": [
    "for s in data[config[\"jp_col\"]]:\n",
    "    JP_lang.addSentence(s)"
   ]
  },
  {
   "cell_type": "markdown",
   "metadata": {
    "colab_type": "text",
    "id": "o5Tz-dt4YJUu"
   },
   "source": [
    "## input の加工"
   ]
  },
  {
   "cell_type": "code",
   "execution_count": 9,
   "metadata": {
    "colab": {},
    "colab_type": "code",
    "id": "aULbo-pO6zd7"
   },
   "outputs": [],
   "source": [
    "if config[\"src\"]==\"jp\":\n",
    "    src_col=config[\"jp_col\"]\n",
    "    trg_col=config[\"en_col\"]\n",
    "    Langs={\"src\":JP_lang,\"trg\":EN_lang}\n",
    "else:\n",
    "    src_col=config[\"en_col\"]\n",
    "    trg_col=config[\"jp_col\"]\n",
    "    Langs={\"trg\":JP_lang,\"src\":EN_lang}"
   ]
  },
  {
   "cell_type": "code",
   "execution_count": 10,
   "metadata": {
    "colab": {},
    "colab_type": "code",
    "id": "kZkMItuoprY2"
   },
   "outputs": [],
   "source": [
    "input_en = data[src_col]"
   ]
  },
  {
   "cell_type": "code",
   "execution_count": 11,
   "metadata": {
    "colab": {},
    "colab_type": "code",
    "id": "u6IBzGaKvpYS"
   },
   "outputs": [],
   "source": [
    "input_source_lang=data[src_col].apply(lambda x:Langs[\"src\"].word2id(x))\n",
    "input_target_lang=data[trg_col].apply(lambda x:Langs[\"trg\"].word2id(x,target=True))"
   ]
  },
  {
   "cell_type": "code",
   "execution_count": 12,
   "metadata": {
    "colab": {},
    "colab_type": "code",
    "id": "6Wd8_Eq1BZAS"
   },
   "outputs": [],
   "source": [
    "val_source = val_data[src_col].apply(lambda x:Langs[\"src\"].word2id(x))\n",
    "val_target = val_data[trg_col].apply(lambda x:Langs[\"trg\"].word2id(x))"
   ]
  },
  {
   "cell_type": "code",
   "execution_count": 13,
   "metadata": {
    "colab": {},
    "colab_type": "code",
    "id": "kNv2-2QGwJOP"
   },
   "outputs": [],
   "source": [
    "input_source_padded=sequence.pad_sequences(input_source_lang,maxlen=config[\"MAX_LENGTH\"],padding=\"post\",truncating=\"post\")\n",
    "input_target_padded=sequence.pad_sequences(input_target_lang,maxlen=config[\"MAX_LENGTH\"]+1,padding=\"post\",truncating=\"post\")"
   ]
  },
  {
   "cell_type": "code",
   "execution_count": 14,
   "metadata": {
    "colab": {},
    "colab_type": "code",
    "id": "qfY3S_5HBZAb"
   },
   "outputs": [],
   "source": [
    "val_source_padded=sequence.pad_sequences(val_source,maxlen=config[\"MAX_LENGTH\"],padding=\"post\",truncating=\"post\")\n",
    "val_target_padded=sequence.pad_sequences(val_target,maxlen=config[\"MAX_LENGTH\"],padding=\"post\",truncating=\"post\")"
   ]
  },
  {
   "cell_type": "code",
   "execution_count": 15,
   "metadata": {
    "colab": {
     "base_uri": "https://localhost:8080/",
     "height": 34
    },
    "colab_type": "code",
    "id": "TQF1eCts97rK",
    "outputId": "99351eab-be3d-4687-bedb-827ded64b9dc"
   },
   "outputs": [
    {
     "name": "stdout",
     "output_type": "stream",
     "text": [
      "cpu\n"
     ]
    }
   ],
   "source": [
    "device = torch.device(\"cuda\" if torch.cuda.is_available() else \"cpu\")\n",
    "print(device)"
   ]
  },
  {
   "cell_type": "markdown",
   "metadata": {
    "colab_type": "text",
    "id": "sKk9M26LiLLz"
   },
   "source": [
    "## create embedding"
   ]
  },
  {
   "cell_type": "code",
   "execution_count": 16,
   "metadata": {
    "colab": {
     "base_uri": "https://localhost:8080/",
     "height": 105
    },
    "colab_type": "code",
    "id": "h_IvBxgqiKRQ",
    "outputId": "3e02da3c-f3b7-4b7e-b1fb-4333f1c63bdc"
   },
   "outputs": [],
   "source": [
    "#en_emb = build_en_emb(config,EN_lang.word2index)"
   ]
  },
  {
   "cell_type": "code",
   "execution_count": 17,
   "metadata": {
    "colab": {
     "base_uri": "https://localhost:8080/",
     "height": 105
    },
    "colab_type": "code",
    "id": "mPSbCDH-iv3T",
    "outputId": "decf2c89-be7e-4b59-ffcb-30d8b7d53420"
   },
   "outputs": [],
   "source": [
    "#ja_emb = build_jp_emb(config,JP_lang.word2index)"
   ]
  },
  {
   "cell_type": "code",
   "execution_count": 18,
   "metadata": {
    "colab": {},
    "colab_type": "code",
    "id": "NicIF0E2klcw"
   },
   "outputs": [],
   "source": [
    "#if config[\"src\"]==\"en\":\n",
    " #   emb={\"src_emb\":en_emb,\"trg_emb\":ja_emb}\n",
    "#else:\n",
    " #   emb={\"src_emb\":ja_emb,\"trg_emb\":en_emb}"
   ]
  },
  {
   "cell_type": "code",
   "execution_count": 19,
   "metadata": {
    "colab": {
     "base_uri": "https://localhost:8080/",
     "height": 51
    },
    "colab_type": "code",
    "id": "lp4HUYWjyo_3",
    "outputId": "5334a24a-de04-4134-c187-e7e5ff209480"
   },
   "outputs": [],
   "source": [
    "#print(\"enc->\",emb[\"trg_emb\"].shape)\n",
    "#print(\"dec->\",emb[\"src_emb\"].shape)"
   ]
  },
  {
   "cell_type": "code",
   "execution_count": 20,
   "metadata": {
    "colab": {},
    "colab_type": "code",
    "id": "2FJkygex6zeD"
   },
   "outputs": [],
   "source": [
    "#trainer = Seq2Seq(config,enc_emb=emb[\"src_emb\"],dec_emb=emb[\"trg_emb\"])\n",
    "trainer = Model(config)"
   ]
  },
  {
   "cell_type": "code",
   "execution_count": 21,
   "metadata": {
    "colab": {
     "base_uri": "https://localhost:8080/",
     "height": 1000
    },
    "colab_type": "code",
    "id": "EY739NcJ6zeF",
    "outputId": "8c57cb1d-d7ed-4dc4-8fdd-a79db8a56f77"
   },
   "outputs": [],
   "source": [
    "#trainer.trainIters(input_source_padded,input_target_padded,val_source_padded,val_target_padded)"
   ]
  },
  {
   "cell_type": "markdown",
   "metadata": {
    "colab_type": "text",
    "id": "5khAA1aymGoX"
   },
   "source": [
    "# test"
   ]
  },
  {
   "cell_type": "code",
   "execution_count": 22,
   "metadata": {},
   "outputs": [],
   "source": [
    "val_src=val_source_padded[:1]"
   ]
  },
  {
   "cell_type": "code",
   "execution_count": 23,
   "metadata": {},
   "outputs": [
    {
     "name": "stderr",
     "output_type": "stream",
     "text": [
      "/Users/ueki/Desktop/work/jp_en_translation/models/Transformer.py:385: UserWarning: To copy construct from a tensor, it is recommended to use sourceTensor.clone().detach() or sourceTensor.clone().detach().requires_grad_(True), rather than torch.tensor(sourceTensor).\n",
      "  outputs[:i], dtype=torch.long).view(1, -1).to(device)\n"
     ]
    },
    {
     "data": {
      "text/plain": [
       "[1,\n",
       " 2983,\n",
       " 175,\n",
       " 6456,\n",
       " 5343,\n",
       " 2998,\n",
       " 2354,\n",
       " 4911,\n",
       " 4519,\n",
       " 3840,\n",
       " 5849,\n",
       " 52,\n",
       " 1488,\n",
       " 6458,\n",
       " 6760,\n",
       " 959,\n",
       " 2935,\n",
       " 356,\n",
       " 3921]"
      ]
     },
     "execution_count": 23,
     "metadata": {},
     "output_type": "execute_result"
    }
   ],
   "source": [
    "trainer.translate(val_src)"
   ]
  },
  {
   "cell_type": "code",
   "execution_count": 24,
   "metadata": {},
   "outputs": [
    {
     "data": {
      "text/plain": [
       "['SOS',\n",
       " '山頂',\n",
       " '出',\n",
       " '蚊',\n",
       " '高温',\n",
       " '得る',\n",
       " '負け',\n",
       " '逐語',\n",
       " 'ほっぺ',\n",
       " '楽',\n",
       " '摘ん',\n",
       " 'う',\n",
       " '気付か',\n",
       " '返し',\n",
       " 'ややこしい',\n",
       " '負かす',\n",
       " 'たま',\n",
       " 'ああ',\n",
       " 'ある程度']"
      ]
     },
     "execution_count": 24,
     "metadata": {},
     "output_type": "execute_result"
    }
   ],
   "source": [
    "ret = trainer.translate(val_src)\n",
    "Langs[\"trg\"].id2word(ret)"
   ]
  },
  {
   "cell_type": "code",
   "execution_count": 25,
   "metadata": {},
   "outputs": [
    {
     "name": "stdout",
     "output_type": "stream",
     "text": [
      "[[-1, tensor([1., 0., 0., 0., 0., 0., 0., 0., 0., 0., 0., 0., 0., 0., 0., 0., 0., 0.,\n",
      "        0., 0.])]]\n",
      "[[-0.0009281343664042652, tensor([1.0000e+00, 4.8120e+03, 0.0000e+00, 0.0000e+00, 0.0000e+00, 0.0000e+00,\n",
      "        0.0000e+00, 0.0000e+00, 0.0000e+00, 0.0000e+00, 0.0000e+00, 0.0000e+00,\n",
      "        0.0000e+00, 0.0000e+00, 0.0000e+00, 0.0000e+00, 0.0000e+00, 0.0000e+00,\n",
      "        0.0000e+00, 0.0000e+00])], [-0.0007151575991883874, tensor([1.0000e+00, 4.8120e+03, 0.0000e+00, 0.0000e+00, 0.0000e+00, 0.0000e+00,\n",
      "        0.0000e+00, 0.0000e+00, 0.0000e+00, 0.0000e+00, 0.0000e+00, 0.0000e+00,\n",
      "        0.0000e+00, 0.0000e+00, 0.0000e+00, 0.0000e+00, 0.0000e+00, 0.0000e+00,\n",
      "        0.0000e+00, 0.0000e+00])], [-0.0007139883236959577, tensor([1.0000e+00, 4.8120e+03, 0.0000e+00, 0.0000e+00, 0.0000e+00, 0.0000e+00,\n",
      "        0.0000e+00, 0.0000e+00, 0.0000e+00, 0.0000e+00, 0.0000e+00, 0.0000e+00,\n",
      "        0.0000e+00, 0.0000e+00, 0.0000e+00, 0.0000e+00, 0.0000e+00, 0.0000e+00,\n",
      "        0.0000e+00, 0.0000e+00])]]\n",
      "[[-8.102008593541505e-07, tensor([1.0000e+00, 4.8120e+03, 3.8900e+03, 0.0000e+00, 0.0000e+00, 0.0000e+00,\n",
      "        0.0000e+00, 0.0000e+00, 0.0000e+00, 0.0000e+00, 0.0000e+00, 0.0000e+00,\n",
      "        0.0000e+00, 0.0000e+00, 0.0000e+00, 0.0000e+00, 0.0000e+00, 0.0000e+00,\n",
      "        0.0000e+00, 0.0000e+00])], [-7.418546959642836e-07, tensor([1.0000e+00, 4.8120e+03, 3.8900e+03, 0.0000e+00, 0.0000e+00, 0.0000e+00,\n",
      "        0.0000e+00, 0.0000e+00, 0.0000e+00, 0.0000e+00, 0.0000e+00, 0.0000e+00,\n",
      "        0.0000e+00, 0.0000e+00, 0.0000e+00, 0.0000e+00, 0.0000e+00, 0.0000e+00,\n",
      "        0.0000e+00, 0.0000e+00])], [-7.329998052956649e-07, tensor([1.0000e+00, 4.8120e+03, 3.8900e+03, 0.0000e+00, 0.0000e+00, 0.0000e+00,\n",
      "        0.0000e+00, 0.0000e+00, 0.0000e+00, 0.0000e+00, 0.0000e+00, 0.0000e+00,\n",
      "        0.0000e+00, 0.0000e+00, 0.0000e+00, 0.0000e+00, 0.0000e+00, 0.0000e+00,\n",
      "        0.0000e+00, 0.0000e+00])]]\n",
      "[[-7.655864092184476e-10, tensor([1.0000e+00, 4.8120e+03, 3.8900e+03, 6.3920e+03, 0.0000e+00, 0.0000e+00,\n",
      "        0.0000e+00, 0.0000e+00, 0.0000e+00, 0.0000e+00, 0.0000e+00, 0.0000e+00,\n",
      "        0.0000e+00, 0.0000e+00, 0.0000e+00, 0.0000e+00, 0.0000e+00, 0.0000e+00,\n",
      "        0.0000e+00, 0.0000e+00])], [-7.223125838159123e-10, tensor([1.0000e+00, 4.8120e+03, 3.8900e+03, 6.3920e+03, 0.0000e+00, 0.0000e+00,\n",
      "        0.0000e+00, 0.0000e+00, 0.0000e+00, 0.0000e+00, 0.0000e+00, 0.0000e+00,\n",
      "        0.0000e+00, 0.0000e+00, 0.0000e+00, 0.0000e+00, 0.0000e+00, 0.0000e+00,\n",
      "        0.0000e+00, 0.0000e+00])], [-6.987788991053695e-10, tensor([1.0000e+00, 4.8120e+03, 3.8900e+03, 6.3920e+03, 0.0000e+00, 0.0000e+00,\n",
      "        0.0000e+00, 0.0000e+00, 0.0000e+00, 0.0000e+00, 0.0000e+00, 0.0000e+00,\n",
      "        0.0000e+00, 0.0000e+00, 0.0000e+00, 0.0000e+00, 0.0000e+00, 0.0000e+00,\n",
      "        0.0000e+00, 0.0000e+00])]]\n",
      "[[-6.781290295547341e-13, tensor([1.0000e+00, 4.8120e+03, 3.8900e+03, 6.3920e+03, 3.4460e+03, 0.0000e+00,\n",
      "        0.0000e+00, 0.0000e+00, 0.0000e+00, 0.0000e+00, 0.0000e+00, 0.0000e+00,\n",
      "        0.0000e+00, 0.0000e+00, 0.0000e+00, 0.0000e+00, 0.0000e+00, 0.0000e+00,\n",
      "        0.0000e+00, 0.0000e+00])], [-6.636760028017569e-13, tensor([1.0000e+00, 4.8120e+03, 3.8900e+03, 6.3920e+03, 3.4460e+03, 0.0000e+00,\n",
      "        0.0000e+00, 0.0000e+00, 0.0000e+00, 0.0000e+00, 0.0000e+00, 0.0000e+00,\n",
      "        0.0000e+00, 0.0000e+00, 0.0000e+00, 0.0000e+00, 0.0000e+00, 0.0000e+00,\n",
      "        0.0000e+00, 0.0000e+00])], [-6.437164642601142e-13, tensor([1.0000e+00, 4.8120e+03, 3.8900e+03, 6.3920e+03, 3.4460e+03, 0.0000e+00,\n",
      "        0.0000e+00, 0.0000e+00, 0.0000e+00, 0.0000e+00, 0.0000e+00, 0.0000e+00,\n",
      "        0.0000e+00, 0.0000e+00, 0.0000e+00, 0.0000e+00, 0.0000e+00, 0.0000e+00,\n",
      "        0.0000e+00, 0.0000e+00])]]\n",
      "[[-5.768642729223766e-16, tensor([1.0000e+00, 4.8120e+03, 3.8900e+03, 6.3920e+03, 3.4460e+03, 2.5830e+03,\n",
      "        0.0000e+00, 0.0000e+00, 0.0000e+00, 0.0000e+00, 0.0000e+00, 0.0000e+00,\n",
      "        0.0000e+00, 0.0000e+00, 0.0000e+00, 0.0000e+00, 0.0000e+00, 0.0000e+00,\n",
      "        0.0000e+00, 0.0000e+00])], [-5.724543210078229e-16, tensor([1.0000e+00, 4.8120e+03, 3.8900e+03, 6.3920e+03, 3.4460e+03, 2.5830e+03,\n",
      "        0.0000e+00, 0.0000e+00, 0.0000e+00, 0.0000e+00, 0.0000e+00, 0.0000e+00,\n",
      "        0.0000e+00, 0.0000e+00, 0.0000e+00, 0.0000e+00, 0.0000e+00, 0.0000e+00,\n",
      "        0.0000e+00, 0.0000e+00])], [-5.649852925853067e-16, tensor([1.0000e+00, 4.8120e+03, 3.8900e+03, 6.3920e+03, 3.4460e+03, 2.5830e+03,\n",
      "        0.0000e+00, 0.0000e+00, 0.0000e+00, 0.0000e+00, 0.0000e+00, 0.0000e+00,\n",
      "        0.0000e+00, 0.0000e+00, 0.0000e+00, 0.0000e+00, 0.0000e+00, 0.0000e+00,\n",
      "        0.0000e+00, 0.0000e+00])]]\n"
     ]
    },
    {
     "name": "stderr",
     "output_type": "stream",
     "text": [
      "/Users/ueki/Desktop/work/jp_en_translation/models/Transformer.py:414: UserWarning: To copy construct from a tensor, it is recommended to use sourceTensor.clone().detach() or sourceTensor.clone().detach().requires_grad_(True), rather than torch.tensor(sourceTensor).\n",
      "  cand[:i], dtype=torch.long).view(1, -1).to(device)\n"
     ]
    },
    {
     "name": "stdout",
     "output_type": "stream",
     "text": [
      "[[-5.822217994701169e-19, tensor([1.0000e+00, 4.8120e+03, 3.8900e+03, 6.3920e+03, 3.4460e+03, 2.5830e+03,\n",
      "        5.2120e+03, 0.0000e+00, 0.0000e+00, 0.0000e+00, 0.0000e+00, 0.0000e+00,\n",
      "        0.0000e+00, 0.0000e+00, 0.0000e+00, 0.0000e+00, 0.0000e+00, 0.0000e+00,\n",
      "        0.0000e+00, 0.0000e+00])], [-5.810524742824816e-19, tensor([1.0000e+00, 4.8120e+03, 3.8900e+03, 6.3920e+03, 3.4460e+03, 2.5830e+03,\n",
      "        5.2120e+03, 0.0000e+00, 0.0000e+00, 0.0000e+00, 0.0000e+00, 0.0000e+00,\n",
      "        0.0000e+00, 0.0000e+00, 0.0000e+00, 0.0000e+00, 0.0000e+00, 0.0000e+00,\n",
      "        0.0000e+00, 0.0000e+00])], [-5.766215399258649e-19, tensor([1.0000e+00, 4.8120e+03, 3.8900e+03, 6.3920e+03, 3.4460e+03, 2.5830e+03,\n",
      "        5.2120e+03, 0.0000e+00, 0.0000e+00, 0.0000e+00, 0.0000e+00, 0.0000e+00,\n",
      "        0.0000e+00, 0.0000e+00, 0.0000e+00, 0.0000e+00, 0.0000e+00, 0.0000e+00,\n",
      "        0.0000e+00, 0.0000e+00])]]\n",
      "[[-6.5492147398516055e-22, tensor([1.0000e+00, 4.8120e+03, 3.8900e+03, 6.3920e+03, 3.4460e+03, 2.5830e+03,\n",
      "        5.2120e+03, 1.0840e+03, 0.0000e+00, 0.0000e+00, 0.0000e+00, 0.0000e+00,\n",
      "        0.0000e+00, 0.0000e+00, 0.0000e+00, 0.0000e+00, 0.0000e+00, 0.0000e+00,\n",
      "        0.0000e+00, 0.0000e+00])], [-6.427807433044194e-22, tensor([1.0000e+00, 4.8120e+03, 3.8900e+03, 6.3920e+03, 3.4460e+03, 2.5830e+03,\n",
      "        5.2120e+03, 1.0840e+03, 0.0000e+00, 0.0000e+00, 0.0000e+00, 0.0000e+00,\n",
      "        0.0000e+00, 0.0000e+00, 0.0000e+00, 0.0000e+00, 0.0000e+00, 0.0000e+00,\n",
      "        0.0000e+00, 0.0000e+00])], [-6.283585401885196e-22, tensor([1.0000e+00, 4.8120e+03, 3.8900e+03, 6.3920e+03, 3.4460e+03, 2.5830e+03,\n",
      "        5.2120e+03, 1.0840e+03, 0.0000e+00, 0.0000e+00, 0.0000e+00, 0.0000e+00,\n",
      "        0.0000e+00, 0.0000e+00, 0.0000e+00, 0.0000e+00, 0.0000e+00, 0.0000e+00,\n",
      "        0.0000e+00, 0.0000e+00])]]\n",
      "[[-5.244741446559686e-25, tensor([1.0000e+00, 4.8120e+03, 3.8900e+03, 6.3920e+03, 3.4460e+03, 2.5830e+03,\n",
      "        5.2120e+03, 1.0840e+03, 6.3090e+03, 0.0000e+00, 0.0000e+00, 0.0000e+00,\n",
      "        0.0000e+00, 0.0000e+00, 0.0000e+00, 0.0000e+00, 0.0000e+00, 0.0000e+00,\n",
      "        0.0000e+00, 0.0000e+00])], [-5.086956991904174e-25, tensor([1.0000e+00, 4.8120e+03, 3.8900e+03, 6.3920e+03, 3.4460e+03, 2.5830e+03,\n",
      "        5.2120e+03, 1.0840e+03, 6.3090e+03, 0.0000e+00, 0.0000e+00, 0.0000e+00,\n",
      "        0.0000e+00, 0.0000e+00, 0.0000e+00, 0.0000e+00, 0.0000e+00, 0.0000e+00,\n",
      "        0.0000e+00, 0.0000e+00])], [-4.994741478572143e-25, tensor([1.0000e+00, 4.8120e+03, 3.8900e+03, 6.3920e+03, 3.4460e+03, 2.5830e+03,\n",
      "        5.2120e+03, 1.0840e+03, 6.3090e+03, 0.0000e+00, 0.0000e+00, 0.0000e+00,\n",
      "        0.0000e+00, 0.0000e+00, 0.0000e+00, 0.0000e+00, 0.0000e+00, 0.0000e+00,\n",
      "        0.0000e+00, 0.0000e+00])]]\n",
      "[[-3.880991076178928e-28, tensor([1.0000e+00, 4.8120e+03, 3.8900e+03, 6.3920e+03, 3.4460e+03, 2.5830e+03,\n",
      "        5.2120e+03, 1.0840e+03, 6.3090e+03, 3.6820e+03, 0.0000e+00, 0.0000e+00,\n",
      "        0.0000e+00, 0.0000e+00, 0.0000e+00, 0.0000e+00, 0.0000e+00, 0.0000e+00,\n",
      "        0.0000e+00, 0.0000e+00])], [-3.7421658648454677e-28, tensor([1.0000e+00, 4.8120e+03, 3.8900e+03, 6.3920e+03, 3.4460e+03, 2.5830e+03,\n",
      "        5.2120e+03, 1.0840e+03, 6.3090e+03, 3.6820e+03, 0.0000e+00, 0.0000e+00,\n",
      "        0.0000e+00, 0.0000e+00, 0.0000e+00, 0.0000e+00, 0.0000e+00, 0.0000e+00,\n",
      "        0.0000e+00, 0.0000e+00])], [-3.707650913265424e-28, tensor([1.0000e+00, 4.8120e+03, 3.8900e+03, 6.3920e+03, 3.4460e+03, 2.5830e+03,\n",
      "        5.2120e+03, 1.0840e+03, 6.3090e+03, 3.6820e+03, 0.0000e+00, 0.0000e+00,\n",
      "        0.0000e+00, 0.0000e+00, 0.0000e+00, 0.0000e+00, 0.0000e+00, 0.0000e+00,\n",
      "        0.0000e+00, 0.0000e+00])]]\n",
      "[[-3.1665141128919666e-31, tensor([1.0000e+00, 4.8120e+03, 3.8900e+03, 6.3920e+03, 3.4460e+03, 2.5830e+03,\n",
      "        5.2120e+03, 1.0840e+03, 6.3090e+03, 3.6820e+03, 1.9360e+03, 0.0000e+00,\n",
      "        0.0000e+00, 0.0000e+00, 0.0000e+00, 0.0000e+00, 0.0000e+00, 0.0000e+00,\n",
      "        0.0000e+00, 0.0000e+00])], [-3.0719082486450145e-31, tensor([1.0000e+00, 4.8120e+03, 3.8900e+03, 6.3920e+03, 3.4460e+03, 2.5830e+03,\n",
      "        5.2120e+03, 1.0840e+03, 6.3090e+03, 3.6820e+03, 1.9360e+03, 0.0000e+00,\n",
      "        0.0000e+00, 0.0000e+00, 0.0000e+00, 0.0000e+00, 0.0000e+00, 0.0000e+00,\n",
      "        0.0000e+00, 0.0000e+00])], [-3.0416572967642974e-31, tensor([1.0000e+00, 4.8120e+03, 3.8900e+03, 6.3920e+03, 3.4460e+03, 2.5830e+03,\n",
      "        5.2120e+03, 1.0840e+03, 6.3090e+03, 3.6820e+03, 1.9360e+03, 0.0000e+00,\n",
      "        0.0000e+00, 0.0000e+00, 0.0000e+00, 0.0000e+00, 0.0000e+00, 0.0000e+00,\n",
      "        0.0000e+00, 0.0000e+00])]]\n",
      "[[-3.5157362446955808e-34, tensor([1.0000e+00, 4.8120e+03, 3.8900e+03, 6.3920e+03, 3.4460e+03, 2.5830e+03,\n",
      "        5.2120e+03, 1.0840e+03, 6.3090e+03, 3.6820e+03, 1.9360e+03, 6.1200e+02,\n",
      "        0.0000e+00, 0.0000e+00, 0.0000e+00, 0.0000e+00, 0.0000e+00, 0.0000e+00,\n",
      "        0.0000e+00, 0.0000e+00])], [-3.353707162043347e-34, tensor([1.0000e+00, 4.8120e+03, 3.8900e+03, 6.3920e+03, 3.4460e+03, 2.5830e+03,\n",
      "        5.2120e+03, 1.0840e+03, 6.3090e+03, 3.6820e+03, 1.9360e+03, 6.1200e+02,\n",
      "        0.0000e+00, 0.0000e+00, 0.0000e+00, 0.0000e+00, 0.0000e+00, 0.0000e+00,\n",
      "        0.0000e+00, 0.0000e+00])], [-3.2493217122241158e-34, tensor([1.0000e+00, 4.8120e+03, 3.8900e+03, 6.3920e+03, 3.4460e+03, 2.5830e+03,\n",
      "        5.2120e+03, 1.0840e+03, 6.3090e+03, 3.6820e+03, 1.9360e+03, 6.1200e+02,\n",
      "        0.0000e+00, 0.0000e+00, 0.0000e+00, 0.0000e+00, 0.0000e+00, 0.0000e+00,\n",
      "        0.0000e+00, 0.0000e+00])]]\n",
      "[[-3.6970495083070162e-37, tensor([1.0000e+00, 4.8120e+03, 3.8900e+03, 6.3920e+03, 3.4460e+03, 2.5830e+03,\n",
      "        5.2120e+03, 1.0840e+03, 6.3090e+03, 3.6820e+03, 1.9360e+03, 6.1200e+02,\n",
      "        1.1700e+03, 0.0000e+00, 0.0000e+00, 0.0000e+00, 0.0000e+00, 0.0000e+00,\n",
      "        0.0000e+00, 0.0000e+00])], [-3.5105784611405703e-37, tensor([1.0000e+00, 4.8120e+03, 3.8900e+03, 6.3920e+03, 3.4460e+03, 2.5830e+03,\n",
      "        5.2120e+03, 1.0840e+03, 6.3090e+03, 3.6820e+03, 1.9360e+03, 6.1200e+02,\n",
      "        1.1700e+03, 0.0000e+00, 0.0000e+00, 0.0000e+00, 0.0000e+00, 0.0000e+00,\n",
      "        0.0000e+00, 0.0000e+00])], [-3.4960231723791653e-37, tensor([1.0000e+00, 4.8120e+03, 3.8900e+03, 6.3920e+03, 3.4460e+03, 2.5830e+03,\n",
      "        5.2120e+03, 1.0840e+03, 6.3090e+03, 3.6820e+03, 1.9360e+03, 6.1200e+02,\n",
      "        1.1700e+03, 0.0000e+00, 0.0000e+00, 0.0000e+00, 0.0000e+00, 0.0000e+00,\n",
      "        0.0000e+00, 0.0000e+00])]]\n",
      "[[-3.577048525546775e-40, tensor([1.0000e+00, 4.8120e+03, 3.8900e+03, 6.3920e+03, 3.4460e+03, 2.5830e+03,\n",
      "        5.2120e+03, 1.0840e+03, 6.3090e+03, 3.6820e+03, 1.9360e+03, 6.1200e+02,\n",
      "        1.1700e+03, 6.9300e+02, 0.0000e+00, 0.0000e+00, 0.0000e+00, 0.0000e+00,\n",
      "        0.0000e+00, 0.0000e+00])], [-3.4249550081095617e-40, tensor([1.0000e+00, 4.8120e+03, 3.8900e+03, 6.3920e+03, 3.4460e+03, 2.5830e+03,\n",
      "        5.2120e+03, 1.0840e+03, 6.3090e+03, 3.6820e+03, 1.9360e+03, 6.1200e+02,\n",
      "        1.1700e+03, 6.9300e+02, 0.0000e+00, 0.0000e+00, 0.0000e+00, 0.0000e+00,\n",
      "        0.0000e+00, 0.0000e+00])], [-3.3427471954277563e-40, tensor([1.0000e+00, 4.8120e+03, 3.8900e+03, 6.3920e+03, 3.4460e+03, 2.5830e+03,\n",
      "        5.2120e+03, 1.0840e+03, 6.3090e+03, 3.6820e+03, 1.9360e+03, 6.1200e+02,\n",
      "        1.1700e+03, 6.9300e+02, 0.0000e+00, 0.0000e+00, 0.0000e+00, 0.0000e+00,\n",
      "        0.0000e+00, 0.0000e+00])]]\n",
      "[[-4.072029781427151e-43, tensor([1.0000e+00, 4.8120e+03, 3.8900e+03, 6.3920e+03, 3.4460e+03, 2.5830e+03,\n",
      "        5.2120e+03, 1.0840e+03, 6.3090e+03, 3.6820e+03, 1.9360e+03, 6.1200e+02,\n",
      "        1.1700e+03, 6.9300e+02, 5.9500e+03, 0.0000e+00, 0.0000e+00, 0.0000e+00,\n",
      "        0.0000e+00, 0.0000e+00])], [-3.983375012129357e-43, tensor([1.0000e+00, 4.8120e+03, 3.8900e+03, 6.3920e+03, 3.4460e+03, 2.5830e+03,\n",
      "        5.2120e+03, 1.0840e+03, 6.3090e+03, 3.6820e+03, 1.9360e+03, 6.1200e+02,\n",
      "        1.1700e+03, 6.9300e+02, 5.9500e+03, 0.0000e+00, 0.0000e+00, 0.0000e+00,\n",
      "        0.0000e+00, 0.0000e+00])], [-3.849954926173079e-43, tensor([1.0000e+00, 4.8120e+03, 3.8900e+03, 6.3920e+03, 3.4460e+03, 2.5830e+03,\n",
      "        5.2120e+03, 1.0840e+03, 6.3090e+03, 3.6820e+03, 1.9360e+03, 6.1200e+02,\n",
      "        1.1700e+03, 6.9300e+02, 5.9500e+03, 0.0000e+00, 0.0000e+00, 0.0000e+00,\n",
      "        0.0000e+00, 0.0000e+00])]]\n",
      "[[-3.905557350962822e-46, tensor([1.0000e+00, 4.8120e+03, 3.8900e+03, 6.3920e+03, 3.4460e+03, 2.5830e+03,\n",
      "        5.2120e+03, 1.0840e+03, 6.3090e+03, 3.6820e+03, 1.9360e+03, 6.1200e+02,\n",
      "        1.1700e+03, 6.9300e+02, 5.9500e+03, 6.0360e+03, 0.0000e+00, 0.0000e+00,\n",
      "        0.0000e+00, 0.0000e+00])], [-3.745287627600761e-46, tensor([1.0000e+00, 4.8120e+03, 3.8900e+03, 6.3920e+03, 3.4460e+03, 2.5830e+03,\n",
      "        5.2120e+03, 1.0840e+03, 6.3090e+03, 3.6820e+03, 1.9360e+03, 6.1200e+02,\n",
      "        1.1700e+03, 6.9300e+02, 5.9500e+03, 6.0360e+03, 0.0000e+00, 0.0000e+00,\n",
      "        0.0000e+00, 0.0000e+00])], [-3.734952404549975e-46, tensor([1.0000e+00, 4.8120e+03, 3.8900e+03, 6.3920e+03, 3.4460e+03, 2.5830e+03,\n",
      "        5.2120e+03, 1.0840e+03, 6.3090e+03, 3.6820e+03, 1.9360e+03, 6.1200e+02,\n",
      "        1.1700e+03, 6.9300e+02, 5.9500e+03, 6.0360e+03, 0.0000e+00, 0.0000e+00,\n",
      "        0.0000e+00, 0.0000e+00])]]\n",
      "[[-3.506197161866253e-49, tensor([1.0000e+00, 4.8120e+03, 3.8900e+03, 6.3920e+03, 3.4460e+03, 2.5830e+03,\n",
      "        5.2120e+03, 1.0840e+03, 6.3090e+03, 3.6820e+03, 1.9360e+03, 6.1200e+02,\n",
      "        1.1700e+03, 6.9300e+02, 5.9500e+03, 6.0360e+03, 7.3600e+02, 0.0000e+00,\n",
      "        0.0000e+00, 0.0000e+00])], [-3.472943806463188e-49, tensor([1.0000e+00, 4.8120e+03, 3.8900e+03, 6.3920e+03, 3.4460e+03, 2.5830e+03,\n",
      "        5.2120e+03, 1.0840e+03, 6.3090e+03, 3.6820e+03, 1.9360e+03, 6.1200e+02,\n",
      "        1.1700e+03, 6.9300e+02, 5.9500e+03, 6.0360e+03, 7.3600e+02, 0.0000e+00,\n",
      "        0.0000e+00, 0.0000e+00])], [-3.437226127824358e-49, tensor([1.0000e+00, 4.8120e+03, 3.8900e+03, 6.3920e+03, 3.4460e+03, 2.5830e+03,\n",
      "        5.2120e+03, 1.0840e+03, 6.3090e+03, 3.6820e+03, 1.9360e+03, 6.1200e+02,\n",
      "        1.1700e+03, 6.9300e+02, 5.9500e+03, 6.0360e+03, 7.3600e+02, 0.0000e+00,\n",
      "        0.0000e+00, 0.0000e+00])]]\n",
      "[[-3.1760228043143864e-52, tensor([1.0000e+00, 4.8120e+03, 3.8900e+03, 6.3920e+03, 3.4460e+03, 2.5830e+03,\n",
      "        5.2120e+03, 1.0840e+03, 6.3090e+03, 3.6820e+03, 1.9360e+03, 6.1200e+02,\n",
      "        1.1700e+03, 6.9300e+02, 5.9500e+03, 6.0360e+03, 7.3600e+02, 1.0410e+03,\n",
      "        0.0000e+00, 0.0000e+00])], [-3.125905512863624e-52, tensor([1.0000e+00, 4.8120e+03, 3.8900e+03, 6.3920e+03, 3.4460e+03, 2.5830e+03,\n",
      "        5.2120e+03, 1.0840e+03, 6.3090e+03, 3.6820e+03, 1.9360e+03, 6.1200e+02,\n",
      "        1.1700e+03, 6.9300e+02, 5.9500e+03, 6.0360e+03, 7.3600e+02, 1.0410e+03,\n",
      "        0.0000e+00, 0.0000e+00])], [-3.125173400270445e-52, tensor([1.0000e+00, 4.8120e+03, 3.8900e+03, 6.3920e+03, 3.4460e+03, 2.5830e+03,\n",
      "        5.2120e+03, 1.0840e+03, 6.3090e+03, 3.6820e+03, 1.9360e+03, 6.1200e+02,\n",
      "        1.1700e+03, 6.9300e+02, 5.9500e+03, 6.0360e+03, 7.3600e+02, 1.0410e+03,\n",
      "        0.0000e+00, 0.0000e+00])]]\n",
      "[[-4.538412158803748e-55, tensor([1.0000e+00, 4.8120e+03, 3.8900e+03, 6.3920e+03, 3.4460e+03, 2.5830e+03,\n",
      "        5.2120e+03, 1.0840e+03, 6.3090e+03, 3.6820e+03, 1.9360e+03, 6.1200e+02,\n",
      "        1.1700e+03, 6.9300e+02, 5.9500e+03, 6.0360e+03, 7.3600e+02, 1.0410e+03,\n",
      "        5.0230e+03, 0.0000e+00])], [-4.4125659722469856e-55, tensor([1.0000e+00, 4.8120e+03, 3.8900e+03, 6.3920e+03, 3.4460e+03, 2.5830e+03,\n",
      "        5.2120e+03, 1.0840e+03, 6.3090e+03, 3.6820e+03, 1.9360e+03, 6.1200e+02,\n",
      "        1.1700e+03, 6.9300e+02, 5.9500e+03, 6.0360e+03, 7.3600e+02, 1.0410e+03,\n",
      "        5.0230e+03, 0.0000e+00])], [-4.3572656235454554e-55, tensor([1.0000e+00, 4.8120e+03, 3.8900e+03, 6.3920e+03, 3.4460e+03, 2.5830e+03,\n",
      "        5.2120e+03, 1.0840e+03, 6.3090e+03, 3.6820e+03, 1.9360e+03, 6.1200e+02,\n",
      "        1.1700e+03, 6.9300e+02, 5.9500e+03, 6.0360e+03, 7.3600e+02, 1.0410e+03,\n",
      "        5.0230e+03, 0.0000e+00])]]\n"
     ]
    }
   ],
   "source": [
    "ret=trainer.translate_beam(val_src,3)"
   ]
  },
  {
   "cell_type": "code",
   "execution_count": 26,
   "metadata": {},
   "outputs": [
    {
     "name": "stdout",
     "output_type": "stream",
     "text": [
      "['SOS', 'どうやら', '旧友', 'っていう', '中央', 'マシ', '母国', 'サンタ', 'おも', '丸い', '笑み', '７', '稼い', '得意', 'ソビエト', '暖', '水泳', '部隊', 'ガラス', '続け']\n",
      "['SOS', 'どうやら', '旧友', 'っていう', '中央', 'マシ', '母国', 'サンタ', 'おも', '丸い', '笑み', '７', '稼い', '得意', 'ソビエト', '暖', '水泳', '部隊', 'ガラス', '続け']\n",
      "['SOS', 'どうやら', '旧友', 'っていう', '中央', 'マシ', '母国', 'サンタ', 'おも', '丸い', '笑み', '７', '稼い', '得意', 'ソビエト', '暖', '水泳', '部隊', 'ガラス', '続け']\n"
     ]
    }
   ],
   "source": [
    "for r in ret:\n",
    "    print(Langs[\"trg\"].id2word(r))"
   ]
  }
 ],
 "metadata": {
  "accelerator": "GPU",
  "colab": {
   "collapsed_sections": [],
   "name": "S2S_attention.ipynb",
   "provenance": [],
   "version": "0.3.2"
  },
  "kernelspec": {
   "display_name": "Python 3",
   "language": "python",
   "name": "python3"
  },
  "language_info": {
   "codemirror_mode": {
    "name": "ipython",
    "version": 3
   },
   "file_extension": ".py",
   "mimetype": "text/x-python",
   "name": "python",
   "nbconvert_exporter": "python",
   "pygments_lexer": "ipython3",
   "version": "3.7.3"
  }
 },
 "nbformat": 4,
 "nbformat_minor": 1
}
