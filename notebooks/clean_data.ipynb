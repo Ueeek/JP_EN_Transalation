{
 "cells": [
  {
   "cell_type": "code",
   "execution_count": 19,
   "metadata": {},
   "outputs": [],
   "source": [
    "import sys\n",
    "import gc\n",
    "import os\n",
    "#base_dir = \"drive/My Drive/jp_en_translation/\".replace(\"/\",os.sep)\n",
    "base_dir = \"../\"\n",
    "emb_dir = \"drive/My Drive/util_data/\".replace(\"/\",os.sep)\n",
    "sys.path.append(\"/Users/ueki/Desktop/work/jp_en_translation\")\n",
    "sys.path.append(\"/Users/ueki/Desktop/JP_EN_Transalation\")\n",
    "sys.path.append(base_dir)\n",
    "sys.path.append(\"drive/My Drive/jp_en_translation\".replace(\"/\",os.sep))"
   ]
  },
  {
   "cell_type": "code",
   "execution_count": 20,
   "metadata": {},
   "outputs": [],
   "source": [
    "from models.Transformer import Model\n",
    "from utils.LangEn import LangEn\n",
    "from utils.LangJa import LangJa\n",
    "from utils.build_emb import build_en_emb,build_jp_emb\n",
    "from utils.preprocess import loadLangs\n",
    "import numpy as np\n",
    "from keras.utils import np_utils\n",
    "import matplotlib.pyplot as plt\n",
    "from keras.preprocessing import sequence\n",
    "import torch"
   ]
  },
  {
   "cell_type": "code",
   "execution_count": 21,
   "metadata": {},
   "outputs": [],
   "source": [
    "config={\n",
    "    \"corpus_file\":base_dir+\"data/sub_title.txt\",\n",
    "    \"en_col\":\"description_en\",\n",
    "    \"jp_col\":\"description_jp\",\n",
    "    \"mask_token\":0,\n",
    "    \"SOS_token\":1,\n",
    "    \"EOS_token\":2,\n",
    "    \"UNK_token\":3,\n",
    "    \"max_features\":8000,\n",
    "    \"MAX_LENGTH\":20,\n",
    "    \"train_size\":15000,\n",
    "    \"val_size\":300,\n",
    "    \"batch_size\":128,\n",
    "    \"epochs\":1,\n",
    "    \"maxlen_enc\":20,\n",
    "    \"maxlen_dec\":20,\n",
    "    \"n_hidden\":500,\n",
    "    \"input_dim\":5000,\n",
    "    \"jp_voc\":8000,\n",
    "    \"en_voc\":5000,\n",
    "    \"output_dim\":8000,\n",
    "    \"emb_dim\":300,\n",
    "    \"validation_split\":0.01,\n",
    "\n",
    "    \"translate_length\":20,\n",
    "    \"en_W2V_FILE\" : emb_dir+\"GoogleNews-vectors-negative300.bin.gz\",\n",
    "    \"jp_W2V_FILE\":emb_dir+\"ja_data/ja.bin\",\n",
    "    \"src\":\"en\",\n",
    "    \"trg\":\"jp\",\n",
    "    \"learning_rate\":0.001,\n",
    "    \"n_heads\":5,\n",
    "    \"n_layer\":4,\n",
    "    \"param_dir\":base_dir+\"param/test.pth\"\n",
    "}"
   ]
  },
  {
   "cell_type": "code",
   "execution_count": 22,
   "metadata": {},
   "outputs": [],
   "source": [
    "import pandas as pd"
   ]
  },
  {
   "cell_type": "code",
   "execution_count": 23,
   "metadata": {},
   "outputs": [],
   "source": [
    "jp = base_dir+\"data/birecoded.ja-en.ja.txt\"\n",
    "en = base_dir + \"data/birecoded.ja-en.en.txt\"\n",
    "out = base_dir+\"data/test.txt\""
   ]
  },
  {
   "cell_type": "code",
   "execution_count": 24,
   "metadata": {},
   "outputs": [],
   "source": [
    "with open(jp) as f1:\n",
    "    with open(en) as f2:\n",
    "        text1 = f1.read()\n",
    "        text2 = f2.read()"
   ]
  },
  {
   "cell_type": "code",
   "execution_count": 31,
   "metadata": {},
   "outputs": [
    {
     "name": "stdout",
     "output_type": "stream",
     "text": [
      "27756\n"
     ]
    }
   ],
   "source": [
    "ret=\"\"\n",
    "cnt=0\n",
    "for l1,l2 in zip(text1.split(\"\\n\") ,text2.split(\"\\n\")):\n",
    "    l1 = _norm_jp(l1.replace(\"\\\"\",\"\"))\n",
    "    l2 = _norm_en(l2.replace(\"\\\"\",\"\"))\n",
    "    if len(l1)<=2 or len(l2)<=2:\n",
    "        cnt+=1\n",
    "    else:\n",
    "        S = l2+\"\\t\"+l1+\"\\n\"\n",
    "        ret+=S\n",
    "with open(out,\"w\") as f3:\n",
    "            f3.write(ret)\n",
    "print(cnt)"
   ]
  },
  {
   "cell_type": "code",
   "execution_count": 27,
   "metadata": {},
   "outputs": [],
   "source": [
    "import MeCab\n",
    "import pandas as pd\n",
    "import unicodedata\n",
    "import string\n",
    "import re\n",
    "# import random\n",
    "\n",
    "\n",
    "def _unicodeToAscii(s):\n",
    "    return \" \".join(c for c in unicodedata.normalize('NFD', s) if unicodedata.category(c) != \"Mn\")\n",
    "\n",
    "\n",
    "def _norm_en(s):\n",
    "    ret = []\n",
    "    for c in s.split():\n",
    "        c = _unicodeToAscii(c.lower())\n",
    "        c = re.sub(r\"([.!?])\", r\" \\1\", c)\n",
    "        c = re.sub(r\"[^a-zA-Z.!?]+\", r\" \", c)\n",
    "        ret.append(\"\".join(c.split()))\n",
    "    return \" \".join(ret)\n",
    "\n",
    "\n",
    "def _norm_jp(sentence):\n",
    "    tagger = MeCab.Tagger(\"-Owakati\")\n",
    "    ret = []\n",
    "    for word in tagger.parse(sentence).split():\n",
    "        word = re.sub(r\"([、。])\", r\"\\1\", word)\n",
    "        ret.append(\"\".join(word.split()))\n",
    "    return \" \".join(ret)\n",
    "\n",
    "\n",
    "def _length_filter(data, config):\n",
    "    return data[data.apply(lambda x:len(x[config[\"en_col\"]].split(\" \")), axis=1) < config[\"MAX_LENGTH\"]]\n",
    "\n",
    "\n",
    "def loadLangs(config, shuffle=False):\n",
    "    en_col = config[\"en_col\"]\n",
    "    jp_col = config[\"jp_col\"]\n",
    "    print(\"reading lines\")\n",
    "    data = pd.read_csv(config[\"corpus_file\"], sep=\"\\t\", names=[en_col, jp_col])\n",
    "    if shuffle:\n",
    "        print(\"shuffling\")\n",
    "        data = data.sample(frac=1, random_state=0).reset_index(drop=True)\n",
    "    print(\"pre processing\")\n",
    "    data[en_col] = data[en_col].apply(lambda x: \"\".join(_norm_en(x)))\n",
    "    data[jp_col] = data[jp_col].apply(lambda x: \"\".join(_norm_jp(x)))\n",
    "    data = data[[en_col, jp_col]]\n",
    "    print(\"filter length\")\n",
    "    filtered = _length_filter(data, config)\n",
    "    return filtered\n"
   ]
  },
  {
   "cell_type": "code",
   "execution_count": null,
   "metadata": {},
   "outputs": [],
   "source": []
  }
 ],
 "metadata": {
  "kernelspec": {
   "display_name": "Python 3",
   "language": "python",
   "name": "python3"
  },
  "language_info": {
   "codemirror_mode": {
    "name": "ipython",
    "version": 3
   },
   "file_extension": ".py",
   "mimetype": "text/x-python",
   "name": "python",
   "nbconvert_exporter": "python",
   "pygments_lexer": "ipython3",
   "version": "3.6.1"
  }
 },
 "nbformat": 4,
 "nbformat_minor": 2
}
